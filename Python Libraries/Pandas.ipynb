{
 "cells": [
  {
   "cell_type": "markdown",
   "id": "df73975a",
   "metadata": {},
   "source": [
    "# Pandas-DataFrame And Series\n",
    "Pandas is a powerful data manipulation library in Python, widely used for data analysis and data cleaning. It provides two primary data structures: Series and DataFrame. A Series is a one-dimensional array-like object, while a DataFrame is a two-dimensional, size-mutable, and potentially heterogeneous tabular data structure with labeled axes (rows and columns)."
   ]
  },
  {
   "cell_type": "markdown",
   "id": "000c36c8",
   "metadata": {},
   "source": [
    "- Key Features  \n",
    "    a. Works seemlessly with structured data formats like CSV, excel  \n",
    "    b. Handles missing values easily  \n",
    "    c. Built on numpy for fast computation\n",
    "  \n",
    "- Why use Pandas?  \n",
    "    a. Performance: Handles millions of rows efficiently  \n",
    "    b. Ease of Use: Beginner-friendly syntax for cleaning and transforming data  \n",
    "    c. Integration: Works well with libraries like matplotlib and Scikit-Learn   \n",
    "\n",
    "- Real life examples of Pandas in Action  \n",
    "    a. Finance - Analyzing time-series data like stock prices to identify market trends  \n",
    "    b. Retail - Tracking inventory and finding the most sold products in a store  \n",
    "    c. Healthcare - Analysing patient records and outcomes from clinical trials"
   ]
  },
  {
   "cell_type": "markdown",
   "id": "ea7e3341",
   "metadata": {},
   "source": [
    "Overlap between NumPy and Pandas  \n",
    "NumPy: ndarray → can be 1D (vector), 2D (matrix), nD (tensor).  \n",
    "Pandas:  \n",
    "Series → basically a 1D labeled array.  \n",
    "DataFrame → basically a 2D labeled array (can be seen as a special tensor).  \n",
    "So why not just stick to NumPy?"
   ]
  },
  {
   "cell_type": "markdown",
   "id": "6900cbab",
   "metadata": {},
   "source": [
    "1. It adds labels (not just numbers).\n",
    "2. Handles heterogeneous data (different types per column).\n",
    "3. Provides high-level operations (filter, group, merge, pivot) that NumPy doesn’t.\n",
    "    - NumPy = low-level numerical operations (fast, vectorized).\n",
    "    - Pandas = high-level data analysis operations (built on top of NumPy).\n",
    "\n",
    "You can implement filtering, merging, pivot-like reshaping in NumPy, but Pandas makes it more expressive, less error-prone, and directly tied to column/row labels."
   ]
  },
  {
   "cell_type": "markdown",
   "id": "330e65ab",
   "metadata": {},
   "source": [
    "Key Differences between Data Manipulation and Data Analysis"
   ]
  },
  {
   "cell_type": "code",
   "execution_count": 4,
   "id": "c20e85a6",
   "metadata": {},
   "outputs": [
    {
     "name": "stdout",
     "output_type": "stream",
     "text": [
      "╒═════════╤══════════════════════════════════════╤════════════════════════════════════════════╕\n",
      "│         │ Data Manipulation                    │ Data Analysis                              │\n",
      "╞═════════╪══════════════════════════════════════╪════════════════════════════════════════════╡\n",
      "│ Focus   │ Preparing and Cleaning Data          │ Extracting insights from prepared data     │\n",
      "├─────────┼──────────────────────────────────────┼────────────────────────────────────────────┤\n",
      "│ Goal    │ Organize and structure raw data      │ Find Patterns, trends and solve problems   │\n",
      "├─────────┼──────────────────────────────────────┼────────────────────────────────────────────┤\n",
      "│ Example │ Fixing errors in student grade sheet │ Analyzing which student scored the highest │\n",
      "╘═════════╧══════════════════════════════════════╧════════════════════════════════════════════╛\n"
     ]
    }
   ],
   "source": [
    "# Execute the cell to know the Differences\n",
    "import pandas as pd\n",
    "data = [{'Data Manipulation' : 'Preparing and Cleaning Data', 'Data Analysis' : 'Extracting insights from prepared data'}, \n",
    "{'Data Manipulation' : 'Organize and structure raw data', 'Data Analysis' : 'Find Patterns, trends and solve problems'}, \n",
    "{'Data Manipulation' : 'Fixing errors in student grade sheet', 'Data Analysis' : 'Analyzing which student scored the highest'}]\n",
    "df = pd.DataFrame(data, index=['Focus','Goal','Example'])\n",
    "from tabulate import tabulate\n",
    "print(tabulate(df, headers=\"keys\", tablefmt=\"fancy_grid\"))"
   ]
  },
  {
   "cell_type": "markdown",
   "id": "31f0fe35",
   "metadata": {},
   "source": []
  }
 ],
 "metadata": {
  "kernelspec": {
   "display_name": "Python 3",
   "language": "python",
   "name": "python3"
  },
  "language_info": {
   "codemirror_mode": {
    "name": "ipython",
    "version": 3
   },
   "file_extension": ".py",
   "mimetype": "text/x-python",
   "name": "python",
   "nbconvert_exporter": "python",
   "pygments_lexer": "ipython3",
   "version": "3.13.5"
  }
 },
 "nbformat": 4,
 "nbformat_minor": 5
}
