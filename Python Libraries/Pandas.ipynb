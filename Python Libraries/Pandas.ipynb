{
 "cells": [
  {
   "cell_type": "markdown",
   "id": "df73975a",
   "metadata": {},
   "source": [
    "# Pandas-DataFrame And Series\n",
    "Pandas is a powerful data manipulation library in Python, widely used for data analysis and data cleaning. It provides two primary data structures: Series and DataFrame. A Series is a one-dimensional array-like object, while a DataFrame is a two-dimensional, size-mutable, and potentially heterogeneous tabular data structure with labeled axes (rows and columns)."
   ]
  },
  {
   "cell_type": "markdown",
   "id": "ea7e3341",
   "metadata": {},
   "source": [
    "Overlap between NumPy and Pandas  \n",
    "NumPy: ndarray → can be 1D (vector), 2D (matrix), nD (tensor).  \n",
    "Pandas:  \n",
    "Series → basically a 1D labeled array.  \n",
    "DataFrame → basically a 2D labeled array (can be seen as a special tensor).  \n",
    "So why not just stick to NumPy?"
   ]
  },
  {
   "cell_type": "markdown",
   "id": "6900cbab",
   "metadata": {},
   "source": [
    "1. It adds labels (not just numbers).\n",
    "2. Handles heterogeneous data (different types per column).\n",
    "3. Provides high-level operations (filter, group, merge, pivot) that NumPy doesn’t.\n",
    "    - NumPy = low-level numerical operations (fast, vectorized).\n",
    "    - Pandas = high-level data analysis operations (built on top of NumPy).\n",
    "\n",
    "You can implement filtering, merging, pivot-like reshaping in NumPy, but Pandas makes it more expressive, less error-prone, and directly tied to column/row labels."
   ]
  },
  {
   "cell_type": "markdown",
   "id": "330e65ab",
   "metadata": {},
   "source": []
  }
 ],
 "metadata": {
  "language_info": {
   "name": "python"
  }
 },
 "nbformat": 4,
 "nbformat_minor": 5
}
