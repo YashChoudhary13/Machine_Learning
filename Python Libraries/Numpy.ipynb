{
 "cells": [
  {
   "cell_type": "markdown",
   "id": "455006d2",
   "metadata": {},
   "source": [
    "# NumPy\n",
    "Python does not have arrays traditionally and numpy library lets us make arrays but it is treated a little differently. It forms the basis of Data Science and other libraries like pandas, tensorflow, pytorch etc.  \n"
   ]
  },
  {
   "cell_type": "markdown",
   "id": "fa70018c",
   "metadata": {},
   "source": [
    "## Introduction\n",
    "Vector = 1D array  \n",
    "Matrix = 2D array  \n",
    "Tensor = nD array (3D and above, but includes 1D and 2D as special cases)"
   ]
  },
  {
   "cell_type": "code",
   "execution_count": 1,
   "id": "54077982",
   "metadata": {},
   "outputs": [],
   "source": [
    "import numpy as np"
   ]
  },
  {
   "cell_type": "markdown",
   "id": "0c2f0d28",
   "metadata": {},
   "source": [
    "### Creating array from list"
   ]
  },
  {
   "cell_type": "code",
   "execution_count": 3,
   "id": "85dec148",
   "metadata": {},
   "outputs": [
    {
     "name": "stdout",
     "output_type": "stream",
     "text": [
      "1D array: [1 2 3 4 5]\n",
      "2D array: [[1 2 3]\n",
      " [4 5 6]]\n"
     ]
    }
   ],
   "source": [
    "arr_1d = np.array([1,2,3,4,5])\n",
    "print(f\"1D array: {arr_1d}\")\n",
    "arr_2d = np.array([[1,2,3],[4,5,6]])\n",
    "print(f\"2D array: {arr_2d}\")"
   ]
  },
  {
   "cell_type": "markdown",
   "id": "948cae2d",
   "metadata": {},
   "source": [
    "### List vs Numpy array"
   ]
  },
  {
   "cell_type": "code",
   "execution_count": null,
   "id": "7ea25567",
   "metadata": {},
   "outputs": [
    {
     "name": "stdout",
     "output_type": "stream",
     "text": [
      "Python List multiplication by 2 : [1, 2, 3, 1, 2, 3]\n",
      "Python array multiplication  [2 4 6]\n"
     ]
    }
   ],
   "source": [
    "py_list = [1,2,3]\n",
    "print(f\"Python List multiplication by 2 : {2*py_list}\")\n",
    "np_array = np.array([1,2,3]) # element wise multiplication\n",
    "print(\"Python array multiplication \", np_array*2)"
   ]
  },
  {
   "cell_type": "code",
   "execution_count": 5,
   "id": "469bfa62",
   "metadata": {},
   "outputs": [
    {
     "name": "stdout",
     "output_type": "stream",
     "text": [
      "\n",
      " List operation time:  0.03745675086975098\n",
      "\n",
      " Numpy operation time:  0.0050449371337890625\n"
     ]
    }
   ],
   "source": [
    "import time\n",
    "start = time.time()\n",
    "py_list = [i*2 for i in range(1000000)]\n",
    "print(\"\\n List operation time: \", time.time() - start)\n",
    "\n",
    "start = time.time()\n",
    "np_array = np.arange(1000000) * 2\n",
    "print(\"\\n Numpy operation time: \", time.time() - start)"
   ]
  },
  {
   "cell_type": "markdown",
   "id": "16bfa9b2",
   "metadata": {},
   "source": [
    "### Creating Arrays from Scratch"
   ]
  },
  {
   "cell_type": "code",
   "execution_count": 6,
   "id": "16c40340",
   "metadata": {},
   "outputs": [
    {
     "name": "stdout",
     "output_type": "stream",
     "text": [
      "[[0. 0. 0. 0.]\n",
      " [0. 0. 0. 0.]\n",
      " [0. 0. 0. 0.]]\n"
     ]
    }
   ],
   "source": [
    "zeros = np.zeros((3,4))\n",
    "print(zeros)"
   ]
  },
  {
   "cell_type": "code",
   "execution_count": 7,
   "id": "0044b0c8",
   "metadata": {},
   "outputs": [
    {
     "name": "stdout",
     "output_type": "stream",
     "text": [
      "[[1. 1. 1.]\n",
      " [1. 1. 1.]]\n"
     ]
    }
   ],
   "source": [
    "ones = np.ones((2,3))\n",
    "print(ones)"
   ]
  },
  {
   "cell_type": "code",
   "execution_count": 8,
   "id": "69348703",
   "metadata": {},
   "outputs": [
    {
     "name": "stdout",
     "output_type": "stream",
     "text": [
      "[[7 7]]\n"
     ]
    }
   ],
   "source": [
    "full = np.full((1,2),7)\n",
    "print(full)"
   ]
  },
  {
   "cell_type": "code",
   "execution_count": null,
   "id": "9a991aee",
   "metadata": {},
   "outputs": [
    {
     "name": "stdout",
     "output_type": "stream",
     "text": [
      "[[0.07602213 0.77017218 0.40715318 0.44859948 0.09766475 0.07843842\n",
      "  0.88165014]\n",
      " [0.51481285 0.9874665  0.07886132 0.66893089 0.09282959 0.51475269\n",
      "  0.98584647]\n",
      " [0.56963529 0.48947741 0.03518636 0.79201325 0.60504681 0.48878479\n",
      "  0.12668682]\n",
      " [0.58757449 0.52116117 0.18873929 0.35132317 0.45014289 0.34730213\n",
      "  0.08576242]\n",
      " [0.76563452 0.60953073 0.0770954  0.34192917 0.63091316 0.65186484\n",
      "  0.70288258]\n",
      " [0.54277616 0.70216791 0.35829239 0.13519231 0.30261126 0.55913403\n",
      "  0.58673633]]\n"
     ]
    }
   ],
   "source": [
    "random = np.random.random((6,7))\n",
    "print(random) # random values are between 0 and 1"
   ]
  },
  {
   "cell_type": "code",
   "execution_count": 12,
   "id": "0510238d",
   "metadata": {},
   "outputs": [
    {
     "name": "stdout",
     "output_type": "stream",
     "text": [
      "[0 2 4 6 8]\n"
     ]
    }
   ],
   "source": [
    "sequence = np.arange(0,10,2) # (initial value, final value, step)\n",
    "print(sequence) # Range in Python is always non inclusive outer boundary, that means the stop or the final value is never included"
   ]
  },
  {
   "cell_type": "markdown",
   "id": "68548fac",
   "metadata": {},
   "source": [
    "### Vector, Matrix, Tensor"
   ]
  },
  {
   "cell_type": "code",
   "execution_count": 13,
   "id": "ac9531b3",
   "metadata": {},
   "outputs": [
    {
     "name": "stdout",
     "output_type": "stream",
     "text": [
      "[1 2 3]\n"
     ]
    }
   ],
   "source": [
    "vector = np.array ([1,2,3])\n",
    "print(vector)"
   ]
  },
  {
   "cell_type": "code",
   "execution_count": 14,
   "id": "7e788dc8",
   "metadata": {},
   "outputs": [
    {
     "name": "stdout",
     "output_type": "stream",
     "text": [
      "[[1 2 3]\n",
      " [4 5 6]]\n"
     ]
    }
   ],
   "source": [
    "matrix = np.array([[1,2,3],[4,5,6]])\n",
    "print(matrix)"
   ]
  },
  {
   "cell_type": "code",
   "execution_count": 15,
   "id": "7e39f525",
   "metadata": {},
   "outputs": [
    {
     "name": "stdout",
     "output_type": "stream",
     "text": [
      "[[[1 2]\n",
      "  [3 4]]\n",
      "\n",
      " [[5 6]\n",
      "  [7 8]]]\n"
     ]
    }
   ],
   "source": [
    "tensor = np.array([[[1,2],[3,4]],[[5,6],[7,8]]])\n",
    "print(tensor)"
   ]
  },
  {
   "cell_type": "markdown",
   "id": "f4a607c7",
   "metadata": {},
   "source": [
    "### Array Properties"
   ]
  },
  {
   "cell_type": "code",
   "execution_count": null,
   "id": "dd9f84ab",
   "metadata": {},
   "outputs": [
    {
     "name": "stdout",
     "output_type": "stream",
     "text": [
      "(2, 3)\n",
      "2\n",
      "6\n",
      "int64\n"
     ]
    }
   ],
   "source": [
    "arr = np.array([[1,2,3],[4,5,6]])\n",
    "print(arr.shape) # row x columns\n",
    "print(arr.ndim) # Dimensions\n",
    "print(arr.size) # Size - total elements\n",
    "print(arr.dtype) # Data type of elements - if even one element is float, the data type of array would be float etc,"
   ]
  },
  {
   "cell_type": "markdown",
   "id": "c233d2b3",
   "metadata": {},
   "source": [
    "#### Array Reshaping"
   ]
  },
  {
   "cell_type": "code",
   "execution_count": 19,
   "id": "f2e83675",
   "metadata": {},
   "outputs": [
    {
     "name": "stdout",
     "output_type": "stream",
     "text": [
      "[ 0  1  2  3  4  5  6  7  8  9 10 11]\n"
     ]
    }
   ],
   "source": [
    "arr = np.arange(12)\n",
    "print(arr)"
   ]
  },
  {
   "cell_type": "code",
   "execution_count": 22,
   "id": "9172b179",
   "metadata": {},
   "outputs": [
    {
     "name": "stdout",
     "output_type": "stream",
     "text": [
      "[[ 0  1  2  3]\n",
      " [ 4  5  6  7]\n",
      " [ 8  9 10 11]]\n"
     ]
    }
   ],
   "source": [
    "reshaped = arr.reshape((3,4))\n",
    "print(reshaped)"
   ]
  },
  {
   "cell_type": "code",
   "execution_count": 24,
   "id": "58f83f6c",
   "metadata": {},
   "outputs": [
    {
     "name": "stdout",
     "output_type": "stream",
     "text": [
      "[ 0  1  2  3  4  5  6  7  8  9 10 11]\n"
     ]
    }
   ],
   "source": [
    "flattened = reshaped.flatten()\n",
    "print(flattened)"
   ]
  },
  {
   "cell_type": "code",
   "execution_count": 25,
   "id": "2a8ac83e",
   "metadata": {},
   "outputs": [
    {
     "name": "stdout",
     "output_type": "stream",
     "text": [
      "[ 0  1  2  3  4  5  6  7  8  9 10 11]\n"
     ]
    }
   ],
   "source": [
    "raveled = reshaped.ravel()\n",
    "print(raveled) # Returns view, instead of copy"
   ]
  },
  {
   "cell_type": "code",
   "execution_count": 26,
   "id": "47f0e03f",
   "metadata": {},
   "outputs": [
    {
     "name": "stdout",
     "output_type": "stream",
     "text": [
      "[[ 0  4  8]\n",
      " [ 1  5  9]\n",
      " [ 2  6 10]\n",
      " [ 3  7 11]]\n"
     ]
    }
   ],
   "source": [
    "transpose = reshaped.T\n",
    "print(transpose)"
   ]
  },
  {
   "cell_type": "markdown",
   "id": "41301765",
   "metadata": {},
   "source": [
    "## Operations on Numpy Arrays"
   ]
  },
  {
   "cell_type": "code",
   "execution_count": 1,
   "id": "11760e9b",
   "metadata": {},
   "outputs": [],
   "source": [
    "import numpy as np"
   ]
  },
  {
   "cell_type": "markdown",
   "id": "e6e38e7f",
   "metadata": {},
   "source": [
    "### Slicing"
   ]
  },
  {
   "cell_type": "code",
   "execution_count": null,
   "id": "42dbf205",
   "metadata": {},
   "outputs": [
    {
     "name": "stdout",
     "output_type": "stream",
     "text": [
      "[3 4 5 6 7]\n",
      "[2 4 6 8]\n",
      "8\n"
     ]
    }
   ],
   "source": [
    "arr = np.arange(1,11,1)\n",
    "print(arr[2:7]) # Slicing - returns new array from index 2 to 6\n",
    "print(arr[1:8:2]) # Slicing with 2 step\n",
    "print(arr[-3]) # From the end 3rd element"
   ]
  },
  {
   "cell_type": "code",
   "execution_count": null,
   "id": "41bfc691",
   "metadata": {},
   "outputs": [],
   "source": [
    "# Slicing in 2D array\n",
    "arr_2d = np.array([[1,2,3],\n",
    "                   [4,5,6],\n",
    "                   [7,8,9]])\n",
    "print(arr_2d[1,2]) # Based on zero indexing, 1st row 2nd element which is second row, third element\n",
    "print(arr_2d[1]) # Entire row\n",
    "print(arr_2d[:,1]) # Take all rows but only one column == array[row_selection , column_selection]"
   ]
  },
  {
   "cell_type": "markdown",
   "id": "3ed14377",
   "metadata": {},
   "source": [
    "### Sorting"
   ]
  },
  {
   "cell_type": "code",
   "execution_count": null,
   "id": "f7adbee3",
   "metadata": {},
   "outputs": [
    {
     "name": "stdout",
     "output_type": "stream",
     "text": [
      "[1 1 3 3 4 5 6]\n",
      "[[1 1]\n",
      " [2 2]\n",
      " [3 3]]\n"
     ]
    }
   ],
   "source": [
    "unsorted = np.array([3,1,4,5,6,1,3])\n",
    "print(np.sort(unsorted)) # Basic Sorting function\n",
    "arr_2d_unsorted = np.array([[3,1], [1,2], [2,3]])\n",
    "print(np.sort(arr_2d_unsorted, axis=0)) # Column wise sorting\n",
    "'''\n",
    "Case 1: axis=0 → sort each column independently\n",
    "Case 2: axis=1 → sort each row independently\n",
    "'''"
   ]
  },
  {
   "cell_type": "markdown",
   "id": "4312b17e",
   "metadata": {},
   "source": [
    "### Filter"
   ]
  },
  {
   "cell_type": "code",
   "execution_count": 6,
   "id": "c6bc4941",
   "metadata": {},
   "outputs": [
    {
     "name": "stdout",
     "output_type": "stream",
     "text": [
      "[ 2  4  6  8 10]\n"
     ]
    }
   ],
   "source": [
    "numbers = np.arange(1,11,1)\n",
    "even_number = numbers[numbers % 2 == 0]\n",
    "print(even_number)"
   ]
  },
  {
   "cell_type": "code",
   "execution_count": 7,
   "id": "044cf26a",
   "metadata": {},
   "outputs": [
    {
     "name": "stdout",
     "output_type": "stream",
     "text": [
      "[ 6  7  8  9 10]\n"
     ]
    }
   ],
   "source": [
    "# Filter with mask\n",
    "mask = numbers > 5\n",
    "print(numbers[mask])"
   ]
  },
  {
   "cell_type": "markdown",
   "id": "b9ff599d",
   "metadata": {},
   "source": [
    "### Fancy Indexing and np,where()"
   ]
  },
  {
   "cell_type": "code",
   "execution_count": 8,
   "id": "9de9fc99",
   "metadata": {},
   "outputs": [
    {
     "name": "stdout",
     "output_type": "stream",
     "text": [
      "[1 3 5]\n"
     ]
    }
   ],
   "source": [
    "indices = [0,2,4]\n",
    "print(numbers[indices])"
   ]
  },
  {
   "cell_type": "code",
   "execution_count": null,
   "id": "42e6b99e",
   "metadata": {},
   "outputs": [
    {
     "name": "stdout",
     "output_type": "stream",
     "text": [
      "(array([5, 6, 7, 8, 9]),)\n",
      "[ 6  7  8  9 10]\n"
     ]
    }
   ],
   "source": [
    "where_result = np.where(numbers>5)\n",
    "print(where_result)\n",
    "print(numbers[where_result])\n",
    "'''\n",
    "Case 1: One-argument form\n",
    "Here np.where(condition) returns the indices (positions) where the condition is True.\n",
    "'''"
   ]
  },
  {
   "cell_type": "code",
   "execution_count": null,
   "id": "a4651bf7",
   "metadata": {},
   "outputs": [
    {
     "name": "stdout",
     "output_type": "stream",
     "text": [
      "[ 1  2  3  4  5 12 14 16 18 20]\n"
     ]
    }
   ],
   "source": [
    "condition_array = np.where(numbers > 5, numbers * 2, numbers)\n",
    "print(condition_array)\n",
    "'''\n",
    "Case 2: Three-argument form\n",
    "np.where(condition, if true, else false)\n",
    "'''"
   ]
  },
  {
   "cell_type": "markdown",
   "id": "db9eaf62",
   "metadata": {},
   "source": [
    "### Merging two arrays"
   ]
  },
  {
   "cell_type": "code",
   "execution_count": null,
   "id": "2c067791",
   "metadata": {},
   "outputs": [
    {
     "name": "stdout",
     "output_type": "stream",
     "text": [
      "[5 7 9]\n",
      "[1 2 3 4 5 6]\n"
     ]
    }
   ],
   "source": [
    "arr1 = np.array([1,2,3])\n",
    "arr2 = np.array([4,5,6])\n",
    "print(arr1 + arr2) # Returns [5,7,9]\n",
    "combined = np.concatenate((arr1,arr2)) # np.concatenate expects a single argument: a sequence of arrays (like a list or tuple).\n",
    "print(combined)"
   ]
  },
  {
   "cell_type": "code",
   "execution_count": 13,
   "id": "1253ec99",
   "metadata": {},
   "outputs": [
    {
     "name": "stdout",
     "output_type": "stream",
     "text": [
      "True\n"
     ]
    }
   ],
   "source": [
    "# Array Compatibility = shape should be same\n",
    "print(arr1.shape == arr2.shape)"
   ]
  },
  {
   "cell_type": "code",
   "execution_count": 16,
   "id": "ac22fbd5",
   "metadata": {},
   "outputs": [
    {
     "name": "stdout",
     "output_type": "stream",
     "text": [
      "[[1 2]\n",
      " [3 4]\n",
      " [5 6]]\n",
      "[[1 2 7]\n",
      " [3 4 8]]\n"
     ]
    }
   ],
   "source": [
    "# Adding a row or a column in Arrays\n",
    "\n",
    "original = np.array([[1, 2], [3, 4]])\n",
    "new_row = np.array([[5, 6]]) # new_row must match the number of columns (2 in this case).\n",
    "\n",
    "with_new_row = np.vstack((original, new_row)) # Verticle Stack adds a new row, before [[]] after [[],\n",
    "                                                                                                # []]\n",
    "# print(original)\n",
    "print(with_new_row)\n",
    "\n",
    "new_col = np.array([[7], [8]]) # new_col must match the number of rows (2 in this case).\n",
    "with_new_col = np.hstack((original, new_col)) # Horizontal Stack adds a new column, a new element inside each row\n",
    "                                              # Before [[1],[2]], after [[1,3],[2,4]]\n",
    "print(with_new_col)"
   ]
  },
  {
   "cell_type": "code",
   "execution_count": 17,
   "id": "c6264e8d",
   "metadata": {},
   "outputs": [
    {
     "name": "stdout",
     "output_type": "stream",
     "text": [
      "Array after deletion:  [1 2 4 5]\n"
     ]
    }
   ],
   "source": [
    "# Deleting element\n",
    "arr = np.array([1, 2, 3, 4, 5])\n",
    "deleted = np.delete(arr, 2) # Does not return the deleted element, returns remaining array after deleting the element\n",
    "print(\"Array after deletion: \", deleted)"
   ]
  },
  {
   "cell_type": "code",
   "execution_count": null,
   "id": "ceba1a13",
   "metadata": {},
   "outputs": [],
   "source": []
  }
 ],
 "metadata": {
  "kernelspec": {
   "display_name": "Python 3",
   "language": "python",
   "name": "python3"
  },
  "language_info": {
   "codemirror_mode": {
    "name": "ipython",
    "version": 3
   },
   "file_extension": ".py",
   "mimetype": "text/x-python",
   "name": "python",
   "nbconvert_exporter": "python",
   "pygments_lexer": "ipython3",
   "version": "3.13.5"
  }
 },
 "nbformat": 4,
 "nbformat_minor": 5
}
