{
 "cells": [
  {
   "cell_type": "markdown",
   "id": "9d0d090e",
   "metadata": {},
   "source": [
    "# Polymorphism\n",
    "Polymorphism is a core concept in OOP that allows objects of difference classes to be treated as objects of a common superclass. It provides a way to perform a single action in different forms, it is typically achieved through method overriding and interfaces"
   ]
  },
  {
   "cell_type": "markdown",
   "id": "efdf8b5d",
   "metadata": {},
   "source": [
    "## Method Overriding\n",
    "Allows a child class to provide a specific implementation of a method that is already defined in Parent Class\n"
   ]
  },
  {
   "cell_type": "code",
   "execution_count": 1,
   "id": "b8c2fd6d",
   "metadata": {},
   "outputs": [
    {
     "name": "stdout",
     "output_type": "stream",
     "text": [
      "Woof\n",
      "Meow\n",
      "Woof\n"
     ]
    }
   ],
   "source": [
    "## Base Class\n",
    "class Animal:\n",
    "    def speak(self):\n",
    "        return \"Sound of the animal\"\n",
    "\n",
    "# Derived Class 1\n",
    "class Dog(Animal):\n",
    "    def speak(self):\n",
    "        return 'Woof'\n",
    "    \n",
    "# Derived Class 2:\n",
    "class Cat(Animal):\n",
    "    def speak(self):\n",
    "        return \"Meow\"\n",
    "    \n",
    "# Function that demonstrates polymorphism\n",
    "def animal_speak(animal):\n",
    "    print(animal.speak())\n",
    "\n",
    "dog = Dog()\n",
    "cat = Cat()\n",
    "print(dog.speak())\n",
    "print(cat.speak())\n",
    "animal_speak(dog)\n"
   ]
  },
  {
   "cell_type": "code",
   "execution_count": 4,
   "id": "9040820b",
   "metadata": {},
   "outputs": [
    {
     "name": "stdout",
     "output_type": "stream",
     "text": [
      "the area is 20\n",
      "the area is 28.259999999999998\n"
     ]
    }
   ],
   "source": [
    "## Polymorphism with Functions or Methods\n",
    "\n",
    "# Base Class\n",
    "class Shape :\n",
    "    def area(self):\n",
    "        return \"Area of the figure\"\n",
    "    \n",
    "# Derived Class 1\n",
    "class Rectangle(Shape):\n",
    "    def __init__(self, width, height):\n",
    "        self.width = width\n",
    "        self.height = height\n",
    "    def area(self):\n",
    "        return self.width*self.height\n",
    "    \n",
    "# Derived Class 2\n",
    "class Circle(Shape):\n",
    "    def __init__(self,radius):\n",
    "        self.radius = radius\n",
    "    def area(self):\n",
    "        return 3.14*self.radius*self.radius\n",
    "    \n",
    "# Function that demonstrates the Polymorphism\n",
    "def print_area(shape):\n",
    "    print(f\"the area is {shape.area()}\")\n",
    "\n",
    "rectangle = Rectangle(4,5)\n",
    "circle = Circle(3)\n",
    "print_area(rectangle)\n",
    "print_area(circle)"
   ]
  },
  {
   "cell_type": "markdown",
   "id": "5a62e307",
   "metadata": {},
   "source": [
    "## Polymorphism with Abstract Base Classes\n",
    "Abstract Base Classes (ABCs) are used to define common methods for a group of related objects. They can enforce that derived classes implement particular methods, promoting consistency acorss different implemetations."
   ]
  },
  {
   "cell_type": "code",
   "execution_count": 5,
   "id": "5b6557de",
   "metadata": {},
   "outputs": [
    {
     "name": "stdout",
     "output_type": "stream",
     "text": [
      "Car engine started\n",
      "Bike engine started\n"
     ]
    }
   ],
   "source": [
    "from abc import ABC, abstractmethod #abstract method is a decorator\n",
    "#Define an abstract class\n",
    "class Vehicle(ABC):\n",
    "    @abstractmethod\n",
    "    def start_engine(self):\n",
    "        pass\n",
    "\n",
    "#Derived class\n",
    "class Car(Vehicle):\n",
    "    def start_engine(self):\n",
    "        return \"Car engine started\"\n",
    "class Bike(Vehicle):\n",
    "    def start_engine(self):\n",
    "        return 'Bike engine started'\n",
    "car = Car()\n",
    "bike = Bike()\n",
    "print(car.start_engine())\n",
    "print(bike.start_engine())\n",
    "    "
   ]
  },
  {
   "cell_type": "code",
   "execution_count": null,
   "id": "9ca3f7a7",
   "metadata": {},
   "outputs": [],
   "source": []
  }
 ],
 "metadata": {
  "kernelspec": {
   "display_name": "Python 3",
   "language": "python",
   "name": "python3"
  },
  "language_info": {
   "codemirror_mode": {
    "name": "ipython",
    "version": 3
   },
   "file_extension": ".py",
   "mimetype": "text/x-python",
   "name": "python",
   "nbconvert_exporter": "python",
   "pygments_lexer": "ipython3",
   "version": "3.13.5"
  }
 },
 "nbformat": 4,
 "nbformat_minor": 5
}
