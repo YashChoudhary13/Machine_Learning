{
 "cells": [
  {
   "cell_type": "markdown",
   "id": "c6ba103f",
   "metadata": {},
   "source": [
    "# Classes and Objects\n",
    "OOP is a programming paradigm that uses objects to design applications and computer programs. OOP allows for modeling real world scenarios using classes and objects."
   ]
  },
  {
   "cell_type": "code",
   "execution_count": 2,
   "id": "9e03a9df",
   "metadata": {},
   "outputs": [
    {
     "name": "stdout",
     "output_type": "stream",
     "text": [
      "<__main__.Car object at 0x7f36e7d38910>\n",
      "<class '__main__.Car'>\n"
     ]
    }
   ],
   "source": [
    "# Class is a blueprint for Object\n",
    "class Car :\n",
    "    pass\n",
    "\n",
    "audi = Car()\n",
    "bmw = Car()\n",
    "print(bmw)\n",
    "print(type(audi))"
   ]
  },
  {
   "cell_type": "code",
   "execution_count": 1,
   "id": "26685215",
   "metadata": {},
   "outputs": [
    {
     "data": {
      "text/plain": [
       "' Python does two things behind the scenes:\\nCalls Dog.__new__() → creates a new empty object in memory.\\nCalls Dog.__init__(dog1, \"Milo\", 3) → initializes that object.\\nNotice how the new object (dog1) is automatically passed as the first argument to __init__.\\nWhen you call : dog1 = Dog(\"Milo\", 3)\\nPython internally does:\\ndog1 = Dog.__new__(Dog)   # makes empty Dog object\\nDog.__init__(dog1, \"Milo\", 3)   # calls init with that object \\nIn C++ :\\nDog d(\"Milo\", 3);   // compiler passes \"this\"\\nis secretly :\\nDog::Dog(&d, \"Milo\", 3);\\nIn Python :\\ndog1 = Dog(\"Milo\", 3)   # interpreter passes \"self\"\\nis secretly: \\nDog.__init__(dog1, \"Milo\", 3)\\n'"
      ]
     },
     "execution_count": 1,
     "metadata": {},
     "output_type": "execute_result"
    }
   ],
   "source": [
    "# Instance Variable and Methods\n",
    "class Dog:\n",
    "    #Constructor\n",
    "    def __init__(self,name,age):  # Behind the scenes when dog1()\n",
    "        self.name=name      \n",
    "        self.age=age\n",
    "# create object\n",
    "## dog1 = Dog() # Won't work, I need to provide arguments    in cpp we do Dog dog1; or Dog dog1('Milo', 3)\n",
    "dog1 = Dog('Milo', 3)\n",
    "\n",
    "''' Python does two things behind the scenes:\n",
    "Calls Dog.__new__() → creates a new empty object in memory.\n",
    "Calls Dog.__init__(dog1, \"Milo\", 3) → initializes that object.\n",
    "Notice how the new object (dog1) is automatically passed as the first argument to __init__.\n",
    "When you call : dog1 = Dog(\"Milo\", 3)\n",
    "Python internally does:\n",
    "dog1 = Dog.__new__(Dog)   # makes empty Dog object\n",
    "Dog.__init__(dog1, \"Milo\", 3)   # calls init with that object \n",
    "In C++ :\n",
    "Dog d(\"Milo\", 3);   // compiler passes \"this\"\n",
    "is secretly :\n",
    "Dog::Dog(&d, \"Milo\", 3);\n",
    "In Python :\n",
    "dog1 = Dog(\"Milo\", 3)   # interpreter passes \"self\"\n",
    "is secretly: \n",
    "Dog.__init__(dog1, \"Milo\", 3)\n",
    "'''"
   ]
  },
  {
   "cell_type": "code",
   "execution_count": 2,
   "id": "6694155b",
   "metadata": {},
   "outputs": [
    {
     "name": "stdout",
     "output_type": "stream",
     "text": [
      "Milo\n",
      "3\n"
     ]
    }
   ],
   "source": [
    "print(dog1.name)\n",
    "print(dog1.age)"
   ]
  },
  {
   "cell_type": "code",
   "execution_count": 3,
   "id": "ffc6ef4b",
   "metadata": {},
   "outputs": [
    {
     "name": "stdout",
     "output_type": "stream",
     "text": [
      "Miuky is cute\n"
     ]
    }
   ],
   "source": [
    "#Define a class with instance methods\n",
    "class Cat:\n",
    "    def __init__(self,name,age):\n",
    "        self.name = name\n",
    "        self.age = age\n",
    "    def meow(self):\n",
    "        print(f\"{self.name} is cute\")\n",
    "\n",
    "cat1 = Cat('Miuky', 1)\n",
    "cat1.meow()"
   ]
  },
  {
   "cell_type": "code",
   "execution_count": 4,
   "id": "47e523a6",
   "metadata": {},
   "outputs": [
    {
     "name": "stdout",
     "output_type": "stream",
     "text": [
      "5000\n",
      "500 is deposited, the new balance is 5500\n",
      "5000 withdrawn successfully, the remaining balance is 500\n",
      "500\n"
     ]
    }
   ],
   "source": [
    "## Modeling a Bank Account\n",
    "# Define a class for Bank Account\n",
    "\n",
    "class BankAccount :\n",
    "    def __init__(self, owner, balance=0):\n",
    "        self.owner = owner\n",
    "        self.balance = balance\n",
    "    def getBalance(self):\n",
    "        return self.balance\n",
    "    def deposit(self,amount):\n",
    "        self.balance += amount\n",
    "        print(f\"{amount} is deposited, the new balance is {self.balance}\")\n",
    "    def withdraw(self, amount):\n",
    "        if amount>self.balance:\n",
    "            print(\"Insufficient Balance\")\n",
    "        else :\n",
    "            self.balance -= amount\n",
    "            print(f\"{amount} withdrawn successfully, the remaining balance is {self.balance}\")\n",
    "\n",
    "# Create an Account\n",
    "\n",
    "kotak = BankAccount('Yash', 5000)\n",
    "print(kotak.getBalance())\n",
    "kotak.deposit(500)\n",
    "kotak.withdraw(5000)\n",
    "print(kotak.getBalance())"
   ]
  }
 ],
 "metadata": {
  "kernelspec": {
   "display_name": "Python 3",
   "language": "python",
   "name": "python3"
  },
  "language_info": {
   "codemirror_mode": {
    "name": "ipython",
    "version": 3
   },
   "file_extension": ".py",
   "mimetype": "text/x-python",
   "name": "python",
   "nbconvert_exporter": "python",
   "pygments_lexer": "ipython3",
   "version": "3.13.5"
  }
 },
 "nbformat": 4,
 "nbformat_minor": 5
}
