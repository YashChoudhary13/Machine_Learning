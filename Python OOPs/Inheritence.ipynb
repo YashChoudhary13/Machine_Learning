{
 "cells": [
  {
   "cell_type": "markdown",
   "id": "5e2e0e5b",
   "metadata": {},
   "source": [
    "# Inheritence in Python\n",
    "Inheritence in Python is a fundamental concept in Object Oriented Programming that allows a class to inherit attributes and methods from another class."
   ]
  },
  {
   "cell_type": "code",
   "execution_count": 3,
   "id": "900c6d1e",
   "metadata": {},
   "outputs": [
    {
     "name": "stdout",
     "output_type": "stream",
     "text": [
      "The person will drive V12 car\n"
     ]
    }
   ],
   "source": [
    "# Parent Class\n",
    "class Car :\n",
    "    def __init__(self,windows,doors,enginetype):\n",
    "        self.windows = windows\n",
    "        self.doors = doors\n",
    "        self.enginetype = enginetype\n",
    "    def drive(self):\n",
    "        print(f\"The person will drive {self.enginetype} car\")\n",
    "\n",
    "car1 = Car(4,5,'V12')\n",
    "car1.drive()\n",
    "        "
   ]
  },
  {
   "cell_type": "code",
   "execution_count": 4,
   "id": "6fd5652e",
   "metadata": {},
   "outputs": [
    {
     "name": "stdout",
     "output_type": "stream",
     "text": [
      "The person will drive electric car\n",
      "Tesla supports self driving\n"
     ]
    }
   ],
   "source": [
    "class Tesla(Car):\n",
    "    def __init__(self, windows, doors, enginetype, is_selfDriving):\n",
    "        super().__init__(windows, doors, enginetype)\n",
    "        self.is_selfDriving = is_selfDriving\n",
    "    def selfDriving(self):\n",
    "        if self.is_selfDriving :\n",
    "            print(f\"Tesla supports self driving\")\n",
    "        else :\n",
    "            print(\"It does not support self driving\")\n",
    "\n",
    "tesla1 = Tesla(4, 5, \"electric\", True)\n",
    "tesla1.drive()\n",
    "tesla1.selfDriving()"
   ]
  },
  {
   "cell_type": "code",
   "execution_count": null,
   "id": "026c3e63",
   "metadata": {},
   "outputs": [],
   "source": [
    "# Multiple Inheritence - Derived Class Inherits from 2 Parent Class\n",
    "class Example(Car, Tesla) :\n",
    "    def __init__(self, windows, doors, enginetype):\n",
    "        Car.__init__(self, windows, doors, enginetype)\n",
    "        Tesla.__init__(self, is_selfDriving=False)"
   ]
  }
 ],
 "metadata": {
  "kernelspec": {
   "display_name": "Python 3",
   "language": "python",
   "name": "python3"
  },
  "language_info": {
   "codemirror_mode": {
    "name": "ipython",
    "version": 3
   },
   "file_extension": ".py",
   "mimetype": "text/x-python",
   "name": "python",
   "nbconvert_exporter": "python",
   "pygments_lexer": "ipython3",
   "version": "3.13.5"
  }
 },
 "nbformat": 4,
 "nbformat_minor": 5
}
