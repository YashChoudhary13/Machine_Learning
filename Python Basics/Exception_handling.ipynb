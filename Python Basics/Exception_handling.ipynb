{
 "cells": [
  {
   "cell_type": "markdown",
   "id": "515ce360",
   "metadata": {},
   "source": [
    "## Understanding Basics\n",
    "Exception Handling in Python allows you to handle errors gracefully and take corrective actions without stopping the execution of the program. This lesson will cover the basics of exceptions, including how to use try, except, else and finally blocks. "
   ]
  },
  {
   "cell_type": "markdown",
   "id": "ad075942",
   "metadata": {},
   "source": [
    "### What are Exceptions\n",
    "Exceptions are events that disrupt the normal flow of the program. They occur when an error is encountered during program execution. Common execution include:  \n",
    "    - ZeroDivisonError : Dividing by Zero  \n",
    "    - FIleNotFoundError : File not found   \n",
    "    - ValueError : Invalid value  \n",
    "    - TypeError: Invalid type  "
   ]
  },
  {
   "cell_type": "code",
   "execution_count": 1,
   "id": "f0d04e75",
   "metadata": {},
   "outputs": [
    {
     "name": "stdout",
     "output_type": "stream",
     "text": [
      "Variable has not been assigned\n"
     ]
    }
   ],
   "source": [
    "## try, except block\n",
    "try :\n",
    "    a = b\n",
    "except :\n",
    "    print('Variable has not been assigned')"
   ]
  },
  {
   "cell_type": "code",
   "execution_count": 2,
   "id": "bb86cb6b",
   "metadata": {},
   "outputs": [
    {
     "name": "stdout",
     "output_type": "stream",
     "text": [
      "Variable has not been assigned\n",
      "name 'b' is not defined\n"
     ]
    }
   ],
   "source": [
    "try :\n",
    "    a = b\n",
    "except NameError as ex:\n",
    "    print('Variable has not been assigned')\n",
    "    print(ex)"
   ]
  },
  {
   "cell_type": "code",
   "execution_count": 4,
   "id": "8ac07d2e",
   "metadata": {},
   "outputs": [
    {
     "name": "stdout",
     "output_type": "stream",
     "text": [
      "division by zero\n"
     ]
    }
   ],
   "source": [
    "try :\n",
    "    # a = b\n",
    "    result = 1/0\n",
    "except NameError as ex:\n",
    "    print('Variable has not been assigned')\n",
    "    print(ex)\n",
    "except Exception as ex1:\n",
    "    print(ex1)"
   ]
  },
  {
   "cell_type": "code",
   "execution_count": null,
   "id": "2a018443",
   "metadata": {},
   "outputs": [
    {
     "name": "stdout",
     "output_type": "stream",
     "text": [
      "this is the 2.0\n"
     ]
    }
   ],
   "source": [
    "# try, except, else block\n",
    "try:\n",
    "    num = int(input(\"Enter a number: \"))\n",
    "    result = 10/num\n",
    "except ValueError:\n",
    "    print(\"This is not valid number\")\n",
    "except ZeroDivisionError:\n",
    "    print(\"You can't divide with zero\")\n",
    "except Exception as ex:\n",
    "    print(ex)\n",
    "else :\n",
    "    print(f\"the result is {result}\")"
   ]
  },
  {
   "cell_type": "code",
   "execution_count": null,
   "id": "e4624e64",
   "metadata": {},
   "outputs": [],
   "source": [
    "# try, except, else, finally\n",
    "try:\n",
    "    num = int(input(\"Enter a number: \"))\n",
    "    result = 10/num\n",
    "except ValueError:\n",
    "    print(\"This is not valid number\")\n",
    "except ZeroDivisionError:\n",
    "    print(\"You can't divide with zero\")\n",
    "except Exception as ex:\n",
    "    print(ex)\n",
    "else :\n",
    "    print(f\"the result is {result}\")\n",
    "finally:\n",
    "    print(\"Execution is completed\") #Finally gets executed no matter what\n",
    "    # It is used to finally close the process even after error is handled."
   ]
  },
  {
   "cell_type": "code",
   "execution_count": null,
   "id": "0fad0666",
   "metadata": {},
   "outputs": [],
   "source": [
    "# File Handlin and Exception Handling\n",
    "\n",
    "try :\n",
    "    file = open('example.txt', 'r')\n",
    "    content = file.read()\n",
    "    print(content)\n",
    "except FileNotFoundError:\n",
    "    print(\"File not found\")\n",
    "finally :\n",
    "    if 'file' in locals() and not file.closed():\n",
    "        file.close()\n",
    "        print('File closed')\n"
   ]
  }
 ],
 "metadata": {
  "kernelspec": {
   "display_name": "Python 3",
   "language": "python",
   "name": "python3"
  },
  "language_info": {
   "codemirror_mode": {
    "name": "ipython",
    "version": 3
   },
   "file_extension": ".py",
   "mimetype": "text/x-python",
   "name": "python",
   "nbconvert_exporter": "python",
   "pygments_lexer": "ipython3",
   "version": "3.13.5"
  }
 },
 "nbformat": 4,
 "nbformat_minor": 5
}
