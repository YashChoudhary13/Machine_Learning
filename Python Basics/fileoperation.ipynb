{
 "cells": [
  {
   "cell_type": "markdown",
   "id": "570e79ca",
   "metadata": {},
   "source": [
    "# File Operation - REad and Write Files"
   ]
  },
  {
   "cell_type": "code",
   "execution_count": null,
   "id": "000f510c",
   "metadata": {},
   "outputs": [
    {
     "name": "stdout",
     "output_type": "stream",
     "text": [
      "Apple\n",
      "Banana\n",
      "Cherry\n",
      "\n",
      "Apple\n",
      "Banana\n",
      "Cherry\n"
     ]
    }
   ],
   "source": [
    "### Read a whole file\n",
    "lines = [\"Apple\\n\", \"Banana\\n\", \"Cherry\\n\"]\n",
    "\n",
    "with open('example.txt', 'w') as file:\n",
    "    file.writelines(lines)\n",
    "with open('example.txt', 'r') as file:\n",
    "    content = file.read()\n",
    "    print(content)\n",
    "\n",
    "with open('example.txt', 'r') as file:\n",
    "    for line in file : # read line by line\n",
    "        print(line.strip()) # strip() removes all whitespaces including ' ' , \\n \\t \\r"
   ]
  },
  {
   "cell_type": "code",
   "execution_count": 4,
   "id": "ada26114",
   "metadata": {},
   "outputs": [
    {
     "name": "stdout",
     "output_type": "stream",
     "text": [
      "Hello World \n",
      "\n",
      "Hello World \n",
      "Append operation taking place\n"
     ]
    }
   ],
   "source": [
    "with open('example.txt', 'w') as file:\n",
    "    file.write('Hello World \\n') # Overwrites the example.txt\n",
    "with open('example.txt', 'r') as file:\n",
    "    print(file.read())\n",
    "\n",
    "# TO prevent this, we use append mode :\n",
    "\n",
    "with open('example.txt', 'a') as file :\n",
    "    file.write('Append operation taking place')\n",
    "with open('example.txt', 'r') as file :\n",
    "    print(file.read())"
   ]
  },
  {
   "cell_type": "code",
   "execution_count": 5,
   "id": "2cf66394",
   "metadata": {},
   "outputs": [],
   "source": [
    "### Binary Files - .bin files, we usually update bytes\n",
    "# data will be given in byte form\n",
    "# We'll do exactly same, we will use 'wb' mode for writing bytes and 'rb' mode for reading bytes"
   ]
  },
  {
   "cell_type": "markdown",
   "id": "1c017713",
   "metadata": {},
   "source": [
    "file.readlines() : Reads all lines from a file into a list of strings.  \n",
    "line.split() splits the line into words (default: split by whitespace).   \n",
    "line = \"Hello world\\n\"  \n",
    "print(line.split())       # ['Hello', 'world']  "
   ]
  },
  {
   "cell_type": "code",
   "execution_count": 7,
   "id": "d4e43301",
   "metadata": {},
   "outputs": [
    {
     "name": "stdout",
     "output_type": "stream",
     "text": [
      "Hello World\n",
      "THis is a new line\n",
      "\n"
     ]
    }
   ],
   "source": [
    "#'w+' mode is used to open a file for both reading and writing, if file does not exist, it will be created, \n",
    "# and it if exists then content will be truncated i.e overwritten\n",
    "with open('example.txt', 'w+') as file :\n",
    "    # First write the file\n",
    "    file.write('Hello World\\n')\n",
    "    file.write('THis is a new line\\n')\n",
    "    # Now you have written the content and cursor is at the end, bring it to the start\n",
    "    file.seek(0)\n",
    "    # Read the content\n",
    "    content = file.read()\n",
    "    print(content)"
   ]
  },
  {
   "cell_type": "markdown",
   "id": "99ef9051",
   "metadata": {},
   "source": [
    "# File Path"
   ]
  },
  {
   "cell_type": "code",
   "execution_count": 8,
   "id": "72fab77a",
   "metadata": {},
   "outputs": [
    {
     "name": "stdout",
     "output_type": "stream",
     "text": [
      "Current working directory is /home/shanks/Coding/Machine_Learning/Python Basics\n"
     ]
    }
   ],
   "source": [
    "import os\n",
    "cwd = os.getcwd()\n",
    "print(f\"Current working directory is {cwd}\")"
   ]
  },
  {
   "cell_type": "code",
   "execution_count": 9,
   "id": "d3852196",
   "metadata": {},
   "outputs": [],
   "source": [
    "# Create a new directory\n",
    "new_directory = 'new_dir'\n",
    "os.mkdir(new_directory)"
   ]
  },
  {
   "cell_type": "code",
   "execution_count": 10,
   "id": "f0101513",
   "metadata": {},
   "outputs": [
    {
     "name": "stdout",
     "output_type": "stream",
     "text": [
      "['example.txt', 'test_dir', 'new_dir', 'fileoperation.ipynb', 'example.csv', 'package', 'packages.ipynb', 'Python_01.ipynb', 'Functions.ipynb', 'Python for Data Science.ipynb']\n"
     ]
    }
   ],
   "source": [
    "# Listing Files and Directories\n",
    "items = os.listdir('.')\n",
    "print(items)"
   ]
  },
  {
   "cell_type": "code",
   "execution_count": 11,
   "id": "e95ce20e",
   "metadata": {},
   "outputs": [
    {
     "name": "stdout",
     "output_type": "stream",
     "text": [
      "/home/shanks/Coding/Machine_Learning/Python Basics/folder/file.txt\n"
     ]
    }
   ],
   "source": [
    "# Joining Paths\n",
    "dir_name =\"folder\"\n",
    "file_name = 'file.txt'\n",
    "full_path= os.path.join(os.getcwd(), dir_name, file_name)\n",
    "print(full_path)"
   ]
  },
  {
   "cell_type": "code",
   "execution_count": 12,
   "id": "0f736561",
   "metadata": {},
   "outputs": [
    {
     "name": "stdout",
     "output_type": "stream",
     "text": [
      "Not exists\n"
     ]
    }
   ],
   "source": [
    "path='example1.txt'\n",
    "if os.path.exists(path):\n",
    "    print(\"Exists\")\n",
    "else :\n",
    "    print(\"Not exists\")"
   ]
  },
  {
   "cell_type": "code",
   "execution_count": 13,
   "id": "ad3f9a71",
   "metadata": {},
   "outputs": [
    {
     "name": "stdout",
     "output_type": "stream",
     "text": [
      "Not exists\n"
     ]
    }
   ],
   "source": [
    "# Checking if Path is file or directory\n",
    "path='example1.txt'\n",
    "if os.path.isfile(path):\n",
    "    print(\"File\")\n",
    "elif os.path.isdir(path):\n",
    "    print(\"Directory\")\n",
    "else :\n",
    "    print(\"Not exists\")"
   ]
  },
  {
   "cell_type": "code",
   "execution_count": 14,
   "id": "00ee8ace",
   "metadata": {},
   "outputs": [
    {
     "name": "stdout",
     "output_type": "stream",
     "text": [
      "/home/shanks/Coding/Machine_Learning/Python Basics/example.txt\n"
     ]
    }
   ],
   "source": [
    "## Getting the absolute path\n",
    "relative_path = 'example.txt'\n",
    "absolute_path = os.path.abspath(relative_path)\n",
    "print(absolute_path)"
   ]
  },
  {
   "cell_type": "code",
   "execution_count": null,
   "id": "e28ee3de",
   "metadata": {},
   "outputs": [],
   "source": []
  }
 ],
 "metadata": {
  "kernelspec": {
   "display_name": "Python 3",
   "language": "python",
   "name": "python3"
  },
  "language_info": {
   "codemirror_mode": {
    "name": "ipython",
    "version": 3
   },
   "file_extension": ".py",
   "mimetype": "text/x-python",
   "name": "python",
   "nbconvert_exporter": "python",
   "pygments_lexer": "ipython3",
   "version": "3.13.5"
  }
 },
 "nbformat": 4,
 "nbformat_minor": 5
}
