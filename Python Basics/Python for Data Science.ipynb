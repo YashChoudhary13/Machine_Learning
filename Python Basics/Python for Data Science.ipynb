{
 "cells": [
  {
   "cell_type": "markdown",
   "id": "feb2cf57-2c68-413b-b4d4-7ba093911ba1",
   "metadata": {},
   "source": [
    "# Python For Data Science "
   ]
  },
  {
   "cell_type": "markdown",
   "id": "65039f1c-e86e-4d69-ac10-b65e1a710e1d",
   "metadata": {},
   "source": [
    "#### Important Shortcuts to get started with Jupiter"
   ]
  },
  {
   "cell_type": "markdown",
   "id": "3a569295-4707-49a4-8128-2faac651d8a9",
   "metadata": {},
   "source": [
    "Shift + Enter  =  RUN  \n",
    "Y key  =  Code Cell  \n",
    "M key  = Markdown Cell  \n",
    "A key  =  row insertion above current cell  \n",
    "B key  =  row insertion below current cell  \n",
    "F key  =  Find and Replace  \n",
    "We can press number in command mode to define the number of # in a cell for its size. 1  =  # , 2  =  ## and so on  \n",
    "X key  =  Cut the cell  \n",
    "V key  =  Paste the cell below,  Shift + V  =  Paste the cell above  \n",
    "D + D  =  Delete the cell  \n",
    "Z  =  Undo the deletion  \n",
    "Ctrl + S  =  checkpoint created  \n",
    "H  =  View all the shortcuts"
   ]
  },
  {
   "cell_type": "markdown",
   "id": "cc2644ff-61b4-47da-8053-7c2c5bd7642d",
   "metadata": {
    "jp-MarkdownHeadingCollapsed": true
   },
   "source": [
    "### Hello World"
   ]
  },
  {
   "cell_type": "code",
   "execution_count": 2,
   "id": "bbad2f7f-160e-4948-84bc-bc81f0e8db10",
   "metadata": {},
   "outputs": [
    {
     "name": "stdout",
     "output_type": "stream",
     "text": [
      "Hello World\n"
     ]
    }
   ],
   "source": [
    "print(\"Hello World\")"
   ]
  },
  {
   "cell_type": "code",
   "execution_count": 7,
   "id": "8b86b01a-92b4-4ad8-9ca6-ba15dec3868a",
   "metadata": {},
   "outputs": [
    {
     "data": {
      "text/plain": [
       "'Hello World'"
      ]
     },
     "execution_count": 7,
     "metadata": {},
     "output_type": "execute_result"
    }
   ],
   "source": [
    "# This is a comment\n",
    "\"Hello World\"\n",
    "# This can done in any other Python IDE"
   ]
  },
  {
   "cell_type": "markdown",
   "id": "43fa4c25-f765-4c08-8ce7-e4ad9617b2ee",
   "metadata": {},
   "source": [
    "Last line is executed automatically in Jupiter Notebook  \n",
    "We can add comment using #"
   ]
  },
  {
   "cell_type": "code",
   "execution_count": 8,
   "id": "4e228fc4-ed87-470e-a35a-9f082d904910",
   "metadata": {},
   "outputs": [
    {
     "data": {
      "text/plain": [
       "str"
      ]
     },
     "execution_count": 8,
     "metadata": {},
     "output_type": "execute_result"
    }
   ],
   "source": [
    "type(\"Hello World\")"
   ]
  },
  {
   "cell_type": "markdown",
   "id": "0ba1a994-bc2e-4902-a21e-21948791546c",
   "metadata": {},
   "source": [
    "type () gives the data type of variable as output"
   ]
  },
  {
   "cell_type": "code",
   "execution_count": 13,
   "id": "e3ec335a-0ab4-4156-9f25-5b15158a6151",
   "metadata": {},
   "outputs": [
    {
     "name": "stdout",
     "output_type": "stream",
     "text": [
      "HELLO WORLD\n",
      "hello world\n",
      "Hello World\n"
     ]
    }
   ],
   "source": [
    "print(\"Hello World\".upper())\n",
    "# .upper() function capitalizes all the letters of the string\n",
    "print(\"Hello World\".lower())\n",
    "# .lower() function lowers all the letters of the string\n",
    "print(\"Hello World\".title())\n",
    "# .title() captitalizes first letter of every word."
   ]
  },
  {
   "cell_type": "code",
   "execution_count": 14,
   "id": "a03d7cba-548f-4bec-967f-d0e487dd65f8",
   "metadata": {},
   "outputs": [
    {
     "data": {
      "text/plain": [
       "3"
      ]
     },
     "execution_count": 14,
     "metadata": {},
     "output_type": "execute_result"
    }
   ],
   "source": [
    "\"Hello World\".count('l')\n",
    "# We did not use print function here since last line is executed automatically. \n",
    "# The .count('') function counts the number '' in the string"
   ]
  },
  {
   "cell_type": "markdown",
   "id": "dd6d8737-41ff-46d1-9b8b-687b6adb24ad",
   "metadata": {
    "jp-MarkdownHeadingCollapsed": true
   },
   "source": [
    "### Variables"
   ]
  },
  {
   "cell_type": "code",
   "execution_count": 15,
   "id": "ca24352e-ffa7-4ef4-bf03-b22243844193",
   "metadata": {},
   "outputs": [
    {
     "name": "stdout",
     "output_type": "stream",
     "text": [
      "The history saving thread hit an unexpected error (OperationalError('attempt to write a readonly database')).History will not be written to the database.\n"
     ]
    }
   ],
   "source": [
    "message_1 = \"Hello World\""
   ]
  },
  {
   "cell_type": "code",
   "execution_count": 16,
   "id": "191ab9ec-f5ff-4eae-ae90-61d3335e7ecd",
   "metadata": {},
   "outputs": [
    {
     "data": {
      "text/plain": [
       "'Hello World'"
      ]
     },
     "execution_count": 16,
     "metadata": {},
     "output_type": "execute_result"
    }
   ],
   "source": [
    "message_1"
   ]
  },
  {
   "cell_type": "code",
   "execution_count": 17,
   "id": "0b55ce09-b46d-4f14-b020-ed4672fe654e",
   "metadata": {},
   "outputs": [],
   "source": [
    "message_2 = \"and Hello Yash\""
   ]
  },
  {
   "cell_type": "code",
   "execution_count": 18,
   "id": "4395e9e3-52c5-44ef-b747-1fe2fb0635c0",
   "metadata": {},
   "outputs": [
    {
     "data": {
      "text/plain": [
       "'Hello Worldand Hello Yash'"
      ]
     },
     "execution_count": 18,
     "metadata": {},
     "output_type": "execute_result"
    }
   ],
   "source": [
    "message_1 + message_2"
   ]
  },
  {
   "cell_type": "code",
   "execution_count": 19,
   "id": "817d6bd0-619d-42ca-839b-e56fc4669f0a",
   "metadata": {},
   "outputs": [
    {
     "data": {
      "text/plain": [
       "'Hello World and Hello Yash'"
      ]
     },
     "execution_count": 19,
     "metadata": {},
     "output_type": "execute_result"
    }
   ],
   "source": [
    "f'{message_1} {message_2}'"
   ]
  },
  {
   "cell_type": "markdown",
   "id": "872bafe3-560d-485e-b4c2-61fd8f0b2b22",
   "metadata": {},
   "source": [
    "f strings, allows you to use variables between '' using the help of {}"
   ]
  },
  {
   "cell_type": "markdown",
   "id": "24029733-0ef7-460e-b703-a7fad81a09f8",
   "metadata": {
    "jp-MarkdownHeadingCollapsed": true
   },
   "source": [
    "### Lists"
   ]
  },
  {
   "cell_type": "markdown",
   "id": "2221d557-113a-489c-871d-89324c850fd0",
   "metadata": {},
   "source": [
    "Lists are mutable data types in Python, they can change their data's value"
   ]
  },
  {
   "cell_type": "code",
   "execution_count": 20,
   "id": "91c40508-a2e6-40bb-b917-22fffa8680f4",
   "metadata": {},
   "outputs": [],
   "source": [
    "countries = [\"United States\", \"India\", \"China\", \"Brazil\"]"
   ]
  },
  {
   "cell_type": "code",
   "execution_count": 21,
   "id": "817f2a8c-02b3-47b6-b4a2-a02068c43179",
   "metadata": {},
   "outputs": [
    {
     "data": {
      "text/plain": [
       "['United States', 'India', 'China', 'Brazil']"
      ]
     },
     "execution_count": 21,
     "metadata": {},
     "output_type": "execute_result"
    }
   ],
   "source": [
    "countries"
   ]
  },
  {
   "cell_type": "code",
   "execution_count": 22,
   "id": "28b382c4-dd8c-4ac9-b598-c54cf9ed1798",
   "metadata": {},
   "outputs": [
    {
     "data": {
      "text/plain": [
       "'United States'"
      ]
     },
     "execution_count": 22,
     "metadata": {},
     "output_type": "execute_result"
    }
   ],
   "source": [
    "countries[0]"
   ]
  },
  {
   "cell_type": "code",
   "execution_count": 23,
   "id": "a49119b1-4350-4152-ad0b-803ba394adae",
   "metadata": {},
   "outputs": [
    {
     "data": {
      "text/plain": [
       "'United States'"
      ]
     },
     "execution_count": 23,
     "metadata": {},
     "output_type": "execute_result"
    }
   ],
   "source": [
    "countries[-4]"
   ]
  },
  {
   "cell_type": "markdown",
   "id": "d95d4496-7f19-4f8f-b57a-739f8c06bfac",
   "metadata": {},
   "source": [
    "Indexing starts with 0 from first element towards the last and -1 from last element towards first."
   ]
  },
  {
   "cell_type": "markdown",
   "id": "c07e6d68-c27d-4b69-8e69-f08ca7fc5a9f",
   "metadata": {},
   "source": [
    "##### Slicing"
   ]
  },
  {
   "cell_type": "code",
   "execution_count": 24,
   "id": "2dd01ee6-239f-479e-9c0d-848bed64c4b5",
   "metadata": {},
   "outputs": [
    {
     "data": {
      "text/plain": [
       "['United States', 'India', 'China']"
      ]
     },
     "execution_count": 24,
     "metadata": {},
     "output_type": "execute_result"
    }
   ],
   "source": [
    "#list_name[start:stop]\n",
    "#stop is not included, we stop at stop\n",
    "countries[0:3]"
   ]
  },
  {
   "cell_type": "code",
   "execution_count": 27,
   "id": "050bb2b3-432f-49a8-8f7b-50dc4a821acb",
   "metadata": {},
   "outputs": [
    {
     "data": {
      "text/plain": [
       "['India', 'China', 'Brazil']"
      ]
     },
     "execution_count": 27,
     "metadata": {},
     "output_type": "execute_result"
    }
   ],
   "source": [
    "countries[1:4]\n",
    "# OR\n",
    "countries[1:]"
   ]
  },
  {
   "cell_type": "code",
   "execution_count": 28,
   "id": "0a7ac3ea-3f94-4697-a3df-f6a0dd8b0604",
   "metadata": {},
   "outputs": [
    {
     "data": {
      "text/plain": [
       "['United States', 'India']"
      ]
     },
     "execution_count": 28,
     "metadata": {},
     "output_type": "execute_result"
    }
   ],
   "source": [
    "countries[:2]"
   ]
  },
  {
   "cell_type": "markdown",
   "id": "ee210474-e969-4bcc-8ef7-1a610c7670f7",
   "metadata": {},
   "source": [
    "##### Adding elements to the list"
   ]
  },
  {
   "cell_type": "code",
   "execution_count": 29,
   "id": "10aeaffa-d320-43e7-b488-ab340c7271fe",
   "metadata": {},
   "outputs": [],
   "source": [
    "# Append\n",
    "countries.append('Vietnam')"
   ]
  },
  {
   "cell_type": "code",
   "execution_count": 30,
   "id": "76ea93f3-19c7-4664-b5c9-db556a5c053e",
   "metadata": {},
   "outputs": [
    {
     "data": {
      "text/plain": [
       "['United States', 'India', 'China', 'Brazil', 'Vietnam']"
      ]
     },
     "execution_count": 30,
     "metadata": {},
     "output_type": "execute_result"
    }
   ],
   "source": [
    "countries"
   ]
  },
  {
   "cell_type": "code",
   "execution_count": 40,
   "id": "130cb441-e13c-4bbe-b95c-656f34535008",
   "metadata": {},
   "outputs": [],
   "source": [
    "#.insert(index, data)\n",
    "countries.insert(0, 'Russia')"
   ]
  },
  {
   "cell_type": "code",
   "execution_count": 41,
   "id": "704cc39f-eda2-4098-bc5d-8f2320bc68f1",
   "metadata": {},
   "outputs": [
    {
     "data": {
      "text/plain": [
       "['Russia', 'Russia', 'Russia', 'Russia', 'India', 'China', 'Brazil']"
      ]
     },
     "execution_count": 41,
     "metadata": {},
     "output_type": "execute_result"
    }
   ],
   "source": [
    "countries"
   ]
  },
  {
   "cell_type": "markdown",
   "id": "d113a357-44d6-436b-a025-8e24ec5c21a9",
   "metadata": {},
   "source": [
    "We can join two lists using + operator just like we did in strings  \n",
    "We can create a new list and add these two lists in that too, creating a nested list  \n",
    "nested_list = [countries1 , countries2]"
   ]
  },
  {
   "cell_type": "markdown",
   "id": "10d6f8c6-1da6-42b8-8401-c56b22b7bb66",
   "metadata": {},
   "source": [
    "##### Removing Elements from the list"
   ]
  },
  {
   "cell_type": "code",
   "execution_count": 47,
   "id": "2df2155e-9bae-4155-9096-e226079f7cb4",
   "metadata": {},
   "outputs": [],
   "source": [
    "#.remove(data)\n",
    "countries.remove('Russia')"
   ]
  },
  {
   "cell_type": "code",
   "execution_count": 48,
   "id": "a4ecda8f-c845-4f72-93ef-b4fdf1173955",
   "metadata": {},
   "outputs": [
    {
     "data": {
      "text/plain": [
       "['Russia', 'India', 'China', 'Brazil']"
      ]
     },
     "execution_count": 48,
     "metadata": {},
     "output_type": "execute_result"
    }
   ],
   "source": [
    "countries"
   ]
  },
  {
   "cell_type": "code",
   "execution_count": 36,
   "id": "fda69b3e-35a2-47d7-9d81-38b2b940c29c",
   "metadata": {},
   "outputs": [
    {
     "data": {
      "text/plain": [
       "'Vietnam'"
      ]
     },
     "execution_count": 36,
     "metadata": {},
     "output_type": "execute_result"
    }
   ],
   "source": [
    "# To remove using index - .pop(index), .pop removes element and returns that element\n",
    "countries.pop(-1)"
   ]
  },
  {
   "cell_type": "code",
   "execution_count": 49,
   "id": "98bc4d99-c1bf-4c8a-a248-93a3978093ee",
   "metadata": {},
   "outputs": [
    {
     "data": {
      "text/plain": [
       "['Russia', 'India', 'China', 'Brazil']"
      ]
     },
     "execution_count": 49,
     "metadata": {},
     "output_type": "execute_result"
    }
   ],
   "source": [
    "countries"
   ]
  },
  {
   "cell_type": "code",
   "execution_count": 50,
   "id": "fe4213a3-a987-4434-a5a9-60c1fcb83612",
   "metadata": {},
   "outputs": [],
   "source": [
    "del countries[0]"
   ]
  },
  {
   "cell_type": "code",
   "execution_count": 51,
   "id": "4042e27f-5553-4346-a9eb-a282668bc0ad",
   "metadata": {},
   "outputs": [
    {
     "data": {
      "text/plain": [
       "['India', 'China', 'Brazil']"
      ]
     },
     "execution_count": 51,
     "metadata": {},
     "output_type": "execute_result"
    }
   ],
   "source": [
    "countries"
   ]
  },
  {
   "cell_type": "markdown",
   "id": "10fce6fa-bcd0-4739-a3d4-e2926c7bf61b",
   "metadata": {},
   "source": [
    "##### Sorting the list"
   ]
  },
  {
   "cell_type": "code",
   "execution_count": 52,
   "id": "a2b3a2d4-ac13-48bf-9ed7-cba25ddb7b0c",
   "metadata": {},
   "outputs": [],
   "source": [
    "numbers = [4, 3, 10, 7, 1, 2]"
   ]
  },
  {
   "cell_type": "code",
   "execution_count": 53,
   "id": "96244fa0-53a4-45a6-af16-b57b3dc79780",
   "metadata": {},
   "outputs": [],
   "source": [
    "numbers.sort()"
   ]
  },
  {
   "cell_type": "code",
   "execution_count": 54,
   "id": "db84a9b5-3417-48b0-860e-9be96cc47976",
   "metadata": {},
   "outputs": [
    {
     "data": {
      "text/plain": [
       "[1, 2, 3, 4, 7, 10]"
      ]
     },
     "execution_count": 54,
     "metadata": {},
     "output_type": "execute_result"
    }
   ],
   "source": [
    "numbers"
   ]
  },
  {
   "cell_type": "code",
   "execution_count": 58,
   "id": "0e42f72a-8ead-44e3-958b-40e8841b0809",
   "metadata": {},
   "outputs": [],
   "source": [
    "#To sort in descending order we do\n",
    "numbers.sort(reverse=True)"
   ]
  },
  {
   "cell_type": "code",
   "execution_count": 59,
   "id": "a8f95104-5ba4-420d-83ac-ff3835e12ad5",
   "metadata": {},
   "outputs": [
    {
     "data": {
      "text/plain": [
       "[10, 7, 4, 3, 2, 1]"
      ]
     },
     "execution_count": 59,
     "metadata": {},
     "output_type": "execute_result"
    }
   ],
   "source": [
    "numbers"
   ]
  },
  {
   "cell_type": "markdown",
   "id": "67892f8d-4aa0-4844-86a1-5fd9551460ed",
   "metadata": {},
   "source": [
    "##### Update an element"
   ]
  },
  {
   "cell_type": "code",
   "execution_count": 60,
   "id": "a44dd87e-dd3c-47ba-aa35-8dfc7ebf867f",
   "metadata": {},
   "outputs": [
    {
     "data": {
      "text/plain": [
       "10"
      ]
     },
     "execution_count": 60,
     "metadata": {},
     "output_type": "execute_result"
    }
   ],
   "source": [
    "numbers[0]"
   ]
  },
  {
   "cell_type": "code",
   "execution_count": 61,
   "id": "1938b178-b129-4f5b-b76b-06d9bc67dbc0",
   "metadata": {},
   "outputs": [],
   "source": [
    "numbers[0] = 100"
   ]
  },
  {
   "cell_type": "code",
   "execution_count": 62,
   "id": "11f77fca-971a-4fd3-88e4-3610decf6406",
   "metadata": {},
   "outputs": [
    {
     "data": {
      "text/plain": [
       "[100, 7, 4, 3, 2, 1]"
      ]
     },
     "execution_count": 62,
     "metadata": {},
     "output_type": "execute_result"
    }
   ],
   "source": [
    "numbers"
   ]
  },
  {
   "cell_type": "markdown",
   "id": "9f6eede7-86f0-4375-8824-1fd970437055",
   "metadata": {},
   "source": [
    "##### Copying a list"
   ]
  },
  {
   "cell_type": "markdown",
   "id": "93fd0f64-4361-4e1d-9487-2bd36f93ac24",
   "metadata": {},
   "source": [
    "First method is slicing as we saw above, slicing creates a copy and does not edit the same list  "
   ]
  },
  {
   "cell_type": "code",
   "execution_count": 63,
   "id": "1a9cc370-76c2-4779-bb1f-3a072a2c2f76",
   "metadata": {},
   "outputs": [
    {
     "data": {
      "text/plain": [
       "['India', 'China', 'Brazil']"
      ]
     },
     "execution_count": 63,
     "metadata": {},
     "output_type": "execute_result"
    }
   ],
   "source": [
    "countries[:]"
   ]
  },
  {
   "cell_type": "markdown",
   "id": "d4d5486e-6b1a-4fca-b86c-0c2d6f9e9173",
   "metadata": {},
   "source": [
    "Using the copy Method"
   ]
  },
  {
   "cell_type": "code",
   "execution_count": 64,
   "id": "3fe6865c-b572-477b-9c94-94611a78532a",
   "metadata": {},
   "outputs": [
    {
     "data": {
      "text/plain": [
       "['India', 'China', 'Brazil']"
      ]
     },
     "execution_count": 64,
     "metadata": {},
     "output_type": "execute_result"
    }
   ],
   "source": [
    "countries.copy()"
   ]
  },
  {
   "cell_type": "markdown",
   "id": "ec4ccc15-3c4c-4479-9b7b-966b8f539e00",
   "metadata": {
    "jp-MarkdownHeadingCollapsed": true
   },
   "source": [
    "### Dictionary"
   ]
  },
  {
   "cell_type": "markdown",
   "id": "b1e13a07-81e2-4a94-a205-d38da2e4ab3f",
   "metadata": {
    "jp-MarkdownHeadingCollapsed": true
   },
   "source": [
    "dictionary_name = {\n",
    "    'key1' : 'value1',\n",
    "    'key2' : 'value2'\n",
    "}"
   ]
  },
  {
   "cell_type": "code",
   "execution_count": 66,
   "id": "34442558-53ad-4f3e-9751-6677cc1f671e",
   "metadata": {},
   "outputs": [],
   "source": [
    "my_data = {'name' : 'Yash', 'Age' : 21}"
   ]
  },
  {
   "cell_type": "code",
   "execution_count": 67,
   "id": "cdb8380c-e460-4019-82e5-9c66fb430a00",
   "metadata": {},
   "outputs": [
    {
     "data": {
      "text/plain": [
       "dict_keys(['name', 'Age'])"
      ]
     },
     "execution_count": 67,
     "metadata": {},
     "output_type": "execute_result"
    }
   ],
   "source": [
    "my_data.keys()"
   ]
  },
  {
   "cell_type": "markdown",
   "id": "3c2a9e9b-9d27-4674-8671-929423a7c88a",
   "metadata": {},
   "source": [
    "Prints the keys of our dictionary"
   ]
  },
  {
   "cell_type": "code",
   "execution_count": 68,
   "id": "0290b3e8-bcc8-4049-b55c-7a7e9fa7ff23",
   "metadata": {},
   "outputs": [
    {
     "data": {
      "text/plain": [
       "dict_values(['Yash', 21])"
      ]
     },
     "execution_count": 68,
     "metadata": {},
     "output_type": "execute_result"
    }
   ],
   "source": [
    "my_data.values()"
   ]
  },
  {
   "cell_type": "markdown",
   "id": "bebe77a2-25ff-4134-b920-4395964c05a1",
   "metadata": {},
   "source": [
    "Prints the data of our dictionary"
   ]
  },
  {
   "cell_type": "code",
   "execution_count": 69,
   "id": "e5af3399-ceb0-4aa8-880a-fe92d217e28b",
   "metadata": {},
   "outputs": [
    {
     "data": {
      "text/plain": [
       "dict_items([('name', 'Yash'), ('Age', 21)])"
      ]
     },
     "execution_count": 69,
     "metadata": {},
     "output_type": "execute_result"
    }
   ],
   "source": [
    "my_data.items()"
   ]
  },
  {
   "cell_type": "markdown",
   "id": "adef5846-4b10-41ca-9814-1dba0c1fbb58",
   "metadata": {},
   "source": [
    "Prints the pairs i.e items of our dictionary"
   ]
  },
  {
   "cell_type": "code",
   "execution_count": 76,
   "id": "306fa763-ee58-479d-96f2-b21ac013c02f",
   "metadata": {},
   "outputs": [],
   "source": [
    "my_data['height'] = 183\n",
    "# Making a new key : value pair in your dictionary"
   ]
  },
  {
   "cell_type": "code",
   "execution_count": 72,
   "id": "8b4153f8-5362-4791-b13b-aece53078b7e",
   "metadata": {},
   "outputs": [
    {
     "data": {
      "text/plain": [
       "{'name': 'Yash', 'Age': 21, 'height': 183}"
      ]
     },
     "execution_count": 72,
     "metadata": {},
     "output_type": "execute_result"
    }
   ],
   "source": [
    "my_data"
   ]
  },
  {
   "cell_type": "code",
   "execution_count": 83,
   "id": "a9635048-6e60-4d25-a7d1-a84a5a5e4498",
   "metadata": {},
   "outputs": [],
   "source": [
    "# Update a dictionary\n",
    "my_data.update({'height' : 182})"
   ]
  },
  {
   "cell_type": "code",
   "execution_count": 77,
   "id": "76a02725-9f6b-4b4c-92c1-50ce74c2d1a0",
   "metadata": {},
   "outputs": [
    {
     "data": {
      "text/plain": [
       "{'name': 'Yash', 'Age': 21, 'height': 183}"
      ]
     },
     "execution_count": 77,
     "metadata": {},
     "output_type": "execute_result"
    }
   ],
   "source": [
    "my_data"
   ]
  },
  {
   "cell_type": "code",
   "execution_count": 78,
   "id": "6bf9df9d-100b-49dd-aec8-09703b9214b2",
   "metadata": {},
   "outputs": [
    {
     "data": {
      "text/plain": [
       "{'name': 'Yash', 'Age': 21, 'height': 183}"
      ]
     },
     "execution_count": 78,
     "metadata": {},
     "output_type": "execute_result"
    }
   ],
   "source": [
    "# COPY A DICTIONARY\n",
    "my_data.copy()"
   ]
  },
  {
   "cell_type": "code",
   "execution_count": 84,
   "id": "1f09dc0e-ae77-49ea-ad72-9b77e9ba8a55",
   "metadata": {},
   "outputs": [
    {
     "data": {
      "text/plain": [
       "182"
      ]
     },
     "execution_count": 84,
     "metadata": {},
     "output_type": "execute_result"
    }
   ],
   "source": [
    "#Remove a key:value pair from the dictionary\n",
    "my_data.pop('height')"
   ]
  },
  {
   "cell_type": "code",
   "execution_count": 85,
   "id": "5b849dc3-6434-440a-a497-46e5a040196f",
   "metadata": {},
   "outputs": [
    {
     "data": {
      "text/plain": [
       "{'name': 'Yash', 'Age': 21}"
      ]
     },
     "execution_count": 85,
     "metadata": {},
     "output_type": "execute_result"
    }
   ],
   "source": [
    "my_data"
   ]
  },
  {
   "cell_type": "code",
   "execution_count": 87,
   "id": "888d6edc-ff22-4c7a-a608-5609c30b072f",
   "metadata": {},
   "outputs": [],
   "source": [
    "del my_data['Age']"
   ]
  },
  {
   "cell_type": "code",
   "execution_count": 88,
   "id": "ed1edcd6-a757-4e50-a0f1-3267236f6641",
   "metadata": {},
   "outputs": [
    {
     "data": {
      "text/plain": [
       "{'name': 'Yash'}"
      ]
     },
     "execution_count": 88,
     "metadata": {},
     "output_type": "execute_result"
    }
   ],
   "source": [
    "my_data"
   ]
  },
  {
   "cell_type": "code",
   "execution_count": 89,
   "id": "4161baa2-5e44-4ffb-aac0-f9cdacfd8a96",
   "metadata": {},
   "outputs": [],
   "source": [
    "#Clear your dictionary\n",
    "my_data.clear()"
   ]
  },
  {
   "cell_type": "code",
   "execution_count": 91,
   "id": "fcf476ee-3221-437c-9ed0-892f22a7965d",
   "metadata": {},
   "outputs": [
    {
     "data": {
      "text/plain": [
       "{}"
      ]
     },
     "execution_count": 91,
     "metadata": {},
     "output_type": "execute_result"
    }
   ],
   "source": [
    "my_data"
   ]
  },
  {
   "cell_type": "markdown",
   "id": "dacacf3b-38ba-425b-a084-b6304e54e6db",
   "metadata": {},
   "source": [
    "### Conditional Statement"
   ]
  },
  {
   "cell_type": "markdown",
   "id": "05cc52b6-e1ca-40da-a2f0-f7f4a1fc1218",
   "metadata": {
    "jp-MarkdownHeadingCollapsed": true
   },
   "source": [
    "##### If Statement"
   ]
  },
  {
   "cell_type": "markdown",
   "id": "9a02097b-714d-4184-a2b9-62ce1ffd750f",
   "metadata": {},
   "source": [
    "if (condition) :  \n",
    "    (code)  \n",
    "elif (condition) :  \n",
    "    (code)  \n",
    "else :  \n",
    "    (code)"
   ]
  },
  {
   "cell_type": "code",
   "execution_count": 92,
   "id": "3c8b30de-17a6-455b-b230-3a6139acb67f",
   "metadata": {},
   "outputs": [
    {
     "name": "stdout",
     "output_type": "stream",
     "text": [
      "You are an adult\n"
     ]
    }
   ],
   "source": [
    "age = 18\n",
    "\n",
    "if (age >= 18) :\n",
    "    print(\"You are an adult\")\n",
    "else :\n",
    "    print(\"You are not an adult\")"
   ]
  },
  {
   "cell_type": "markdown",
   "id": "62e3152a-8a3f-4680-a583-a33f91194721",
   "metadata": {},
   "source": [
    "### Conditional Statements"
   ]
  },
  {
   "cell_type": "markdown",
   "id": "50004606-18b7-4c34-b320-a9cbee38a39c",
   "metadata": {
    "jp-MarkdownHeadingCollapsed": true
   },
   "source": [
    "##### For loop"
   ]
  },
  {
   "cell_type": "raw",
   "id": "930e593b-3850-4102-9b43-2e139743216f",
   "metadata": {},
   "source": [
    "for (variable) in (list):\n",
    "    code"
   ]
  },
  {
   "cell_type": "code",
   "execution_count": 93,
   "id": "45204da4-ad8c-4751-bf45-28c2c54483ea",
   "metadata": {},
   "outputs": [
    {
     "name": "stdout",
     "output_type": "stream",
     "text": [
      "India\n",
      "China\n",
      "Brazil\n"
     ]
    }
   ],
   "source": [
    "for country in countries :\n",
    "    print(country)"
   ]
  },
  {
   "cell_type": "code",
   "execution_count": 96,
   "id": "5a959623-edf7-45f0-b783-e17cc51063e0",
   "metadata": {},
   "outputs": [
    {
     "name": "stdout",
     "output_type": "stream",
     "text": [
      "(0, 'India')\n",
      "(1, 'China')\n",
      "(2, 'Brazil')\n"
     ]
    }
   ],
   "source": [
    "#enumerate() function returns the number of loop and the variable itself\n",
    "for country in enumerate(countries) :\n",
    "    print(country)"
   ]
  },
  {
   "cell_type": "code",
   "execution_count": 97,
   "id": "24f8dc02-8823-4b97-ab9a-94998c819440",
   "metadata": {},
   "outputs": [
    {
     "name": "stdout",
     "output_type": "stream",
     "text": [
      "0\n",
      "India\n",
      "1\n",
      "China\n",
      "2\n",
      "Brazil\n"
     ]
    }
   ],
   "source": [
    "for i , country in enumerate(countries) :\n",
    "    print(i)\n",
    "    print(country)"
   ]
  },
  {
   "cell_type": "code",
   "execution_count": 98,
   "id": "d92957e4-9d1e-47eb-b5b6-77bfbac5acbd",
   "metadata": {},
   "outputs": [],
   "source": [
    "my_data = {'name' : 'Yash', 'age' : 21}"
   ]
  },
  {
   "cell_type": "code",
   "execution_count": 101,
   "id": "ca9c0fcf-102a-49ec-afbe-117455a1fcfb",
   "metadata": {},
   "outputs": [
    {
     "name": "stdout",
     "output_type": "stream",
     "text": [
      "name\n",
      "Yash\n",
      "age\n",
      "21\n"
     ]
    }
   ],
   "source": [
    "for key, value in my_data.items() :\n",
    "    print(key)\n",
    "    print(value)"
   ]
  },
  {
   "cell_type": "markdown",
   "id": "c84454ca-0245-4b6b-87ad-8d9c5396f04a",
   "metadata": {},
   "source": [
    "### Functions"
   ]
  },
  {
   "cell_type": "code",
   "execution_count": null,
   "id": "3543bcf8-14ae-4bb2-a504-bebebcec4d62",
   "metadata": {},
   "outputs": [],
   "source": []
  }
 ],
 "metadata": {
  "kernelspec": {
   "display_name": "Python [conda env:base] *",
   "language": "python",
   "name": "conda-base-py"
  },
  "language_info": {
   "codemirror_mode": {
    "name": "ipython",
    "version": 3
   },
   "file_extension": ".py",
   "mimetype": "text/x-python",
   "name": "python",
   "nbconvert_exporter": "python",
   "pygments_lexer": "ipython3",
   "version": "3.13.5"
  }
 },
 "nbformat": 4,
 "nbformat_minor": 5
}
