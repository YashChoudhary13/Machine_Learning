{
 "cells": [
  {
   "cell_type": "markdown",
   "id": "ae99c396",
   "metadata": {},
   "source": [
    "There are 3 ways of creating an envronment :\n",
    "1. Using Python - python -m venv myenv\n",
    "2. Using virtualenv - pip install virtualenv, virtualenv myenv\n",
    "3. conda create -p ./myenv python=3.13  \n",
    "  \n",
    "Why do we create env?  \n",
    "So that with new updates or different package versions in different systems, our code does not get effected.\n"
   ]
  },
  {
   "cell_type": "markdown",
   "id": "0e392b91",
   "metadata": {},
   "source": [
    "Syntax - refers to set of rules that defines the combination of symbols  \n",
    "Semantics - refers to the meaning or interpretation of symbols in the language"
   ]
  },
  {
   "cell_type": "markdown",
   "id": "b511d9bb",
   "metadata": {},
   "source": [
    "- Python is case sensitive  \n",
    "- use ## for single line comments  \n",
    "- Indentation - Python uses indentation to define blocks of code. Unlike many other programming language that use { } to delimit the blocks of code, Python uses indentation for grouping of statements.  \n",
    "- Line Continuation - end the line with \\ and you can continue the code/statement in next line\n",
    "- Multiple statement in single line - x=10;y=5;z=x+y => WORKS\n",
    "- Kernel understands type of data during runtime automatically, no need to define. - Type Inference \n",
    "- type(variable) - gives the data type of the variable\n",
    "\n",
    "\n"
   ]
  },
  {
   "cell_type": "markdown",
   "id": "51eb3ed3",
   "metadata": {},
   "source": [
    "- Variables in Python are created when you assign a value to them. The declaration happens automatically when you assign a value to a variable  \n",
    "- Variable names cannot contain - or start with @ or number  \n",
    "- Data types - int, float, bool, string  \n",
    "- Type conversion - str(int_variable) , float(int(height))  \n",
    "- Dynamic Typing - Python allows the variable to change its type as program executes\n",
    "- input() returns str only\n",
    "- a // b => floor division operator - returns integer(if both a and b are integers, if one of them is float then the output will be in float) after flooring it i.e cutting the decimal part => 31.9 will give 31\n",
    "- and = && and or = || and Not operator = not x = !x"
   ]
  },
  {
   "cell_type": "markdown",
   "id": "3d3f1c23",
   "metadata": {},
   "source": [
    "#### Conditional Statements\n",
    "if statement - checks if condition is true execute this else execute this"
   ]
  },
  {
   "cell_type": "code",
   "execution_count": 1,
   "id": "979e45a8",
   "metadata": {},
   "outputs": [
    {
     "name": "stdout",
     "output_type": "stream",
     "text": [
      "You are eligible for voting\n"
     ]
    }
   ],
   "source": [
    "age=20\n",
    "if age >= 18 : \n",
    "    print(\"You are eligible for voting\")\n",
    "else : \n",
    "    print(\"You are not eligible\")"
   ]
  },
  {
   "cell_type": "markdown",
   "id": "0d9814b6",
   "metadata": {},
   "source": [
    "elif statement - allows you to check multiple conditions"
   ]
  },
  {
   "cell_type": "code",
   "execution_count": 2,
   "id": "a638b3c7",
   "metadata": {},
   "outputs": [
    {
     "name": "stdout",
     "output_type": "stream",
     "text": [
      "You are an adult\n"
     ]
    }
   ],
   "source": [
    "age = 20\n",
    "if age < 13 : \n",
    "    print(\"You are a child\")\n",
    "elif age < 18 :\n",
    "    print(\"You are a teenager\")\n",
    "else :\n",
    "    print(\"You are an adult\")"
   ]
  },
  {
   "cell_type": "markdown",
   "id": "a6df069d",
   "metadata": {},
   "source": [
    "Nested Conditional Statement - You can nest multipe if, elif conditions inside each other"
   ]
  },
  {
   "cell_type": "markdown",
   "id": "00e5ec81",
   "metadata": {},
   "source": [
    "#### Loops\n",
    "for loop - A loop that lets you run a block of code for x number of times"
   ]
  },
  {
   "cell_type": "code",
   "execution_count": null,
   "id": "86ac4ddb",
   "metadata": {},
   "outputs": [],
   "source": [
    "for i in range(5) :\n",
    "    print(i)"
   ]
  },
  {
   "cell_type": "code",
   "execution_count": null,
   "id": "28babf03",
   "metadata": {},
   "outputs": [],
   "source": [
    "for i in range(1,6) :\n",
    "    print(i) "
   ]
  },
  {
   "cell_type": "code",
   "execution_count": null,
   "id": "a114f6dc",
   "metadata": {},
   "outputs": [],
   "source": [
    "for i in range(1,10,2) :\n",
    "    print(i)"
   ]
  },
  {
   "cell_type": "code",
   "execution_count": null,
   "id": "164ca064",
   "metadata": {},
   "outputs": [],
   "source": [
    "for i in range(10,1,-1):\n",
    "    print(i)"
   ]
  },
  {
   "cell_type": "code",
   "execution_count": null,
   "id": "e84f5518",
   "metadata": {},
   "outputs": [],
   "source": [
    "str = 'Yash'\n",
    "for i in str :\n",
    "    print(i)"
   ]
  },
  {
   "cell_type": "markdown",
   "id": "0020ac81",
   "metadata": {},
   "source": [
    "While loop - continous to execute as long as the condition is true"
   ]
  },
  {
   "cell_type": "code",
   "execution_count": null,
   "id": "e07db4fc",
   "metadata": {},
   "outputs": [],
   "source": [
    "count = 0\n",
    "while count < 5 : \n",
    "    print(count)\n",
    "    count = count + 1"
   ]
  },
  {
   "cell_type": "markdown",
   "id": "30c5ae48",
   "metadata": {},
   "source": [
    "Loop Control Statments :  \n",
    "break - exits the loop prematurely  \n",
    "continue - skips the code below it and moves the loop to next iteration or continues the loop from the start"
   ]
  },
  {
   "cell_type": "markdown",
   "id": "21b10922",
   "metadata": {},
   "source": [
    "Nested Loops - A loop inside a loop"
   ]
  },
  {
   "cell_type": "markdown",
   "id": "f823fe44",
   "metadata": {},
   "source": []
  }
 ],
 "metadata": {
  "kernelspec": {
   "display_name": "Python 3",
   "language": "python",
   "name": "python3"
  },
  "language_info": {
   "codemirror_mode": {
    "name": "ipython",
    "version": 3
   },
   "file_extension": ".py",
   "mimetype": "text/x-python",
   "name": "python",
   "nbconvert_exporter": "python",
   "pygments_lexer": "ipython3",
   "version": "3.13.5"
  }
 },
 "nbformat": 4,
 "nbformat_minor": 5
}
