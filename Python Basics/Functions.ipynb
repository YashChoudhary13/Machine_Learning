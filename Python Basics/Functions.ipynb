{
 "cells": [
  {
   "cell_type": "markdown",
   "id": "75d53d54",
   "metadata": {},
   "source": [
    "### Functions\n",
    "A function is a block of code that perfors a specific task. Function help in organizing code, reusing code, and improving readability"
   ]
  },
  {
   "cell_type": "code",
   "execution_count": null,
   "id": "61121095",
   "metadata": {},
   "outputs": [],
   "source": [
    "def function_name(parameters):\n",
    "    \"\"\"Docstring used to tell what function is about\"\"\"\n",
    "    #function body\n",
    "    return expression\n",
    "\n",
    "# BASIC SYNTAX"
   ]
  },
  {
   "cell_type": "code",
   "execution_count": 1,
   "id": "8716620c",
   "metadata": {},
   "outputs": [
    {
     "name": "stdout",
     "output_type": "stream",
     "text": [
      "Odd\n"
     ]
    }
   ],
   "source": [
    "def even_or_odd(num) :\n",
    "    \"\"\"This function finds even or odd\"\"\"\n",
    "    if(num%2==0):\n",
    "        print(\"Even\")\n",
    "    else:\n",
    "        print(\"Odd\")\n",
    "\n",
    "even_or_odd(7)"
   ]
  },
  {
   "cell_type": "code",
   "execution_count": 2,
   "id": "be7a592c",
   "metadata": {},
   "outputs": [
    {
     "name": "stdout",
     "output_type": "stream",
     "text": [
      "Hello User Welcome to the paradise\n"
     ]
    }
   ],
   "source": [
    "#Default Parameter\n",
    "#In case function call does not pass arguments, we can define a default parameter which can be used in such cases by writing =\"\" where we define parameters\n",
    "def greet(name=\"User\"):\n",
    "    print(f\"Hello {name} Welcome to the paradise\")\n",
    "\n",
    "greet()"
   ]
  },
  {
   "cell_type": "markdown",
   "id": "02ed192d",
   "metadata": {},
   "source": [
    "### Variable Length Arguments\n",
    "- Positional Argument :  "
   ]
  },
  {
   "cell_type": "code",
   "execution_count": null,
   "id": "f62df203",
   "metadata": {},
   "outputs": [],
   "source": [
    "def print_numbers(*args):\n",
    "    for arg in args :\n",
    "        print(arg)\n",
    "\n",
    "print_numbers(1,2,3,4,5,6,\"Yash\")\n"
   ]
  },
  {
   "cell_type": "markdown",
   "id": "711c3daa",
   "metadata": {},
   "source": [
    "- Keyword Arguments  \n",
    "All the arguments will be in key-value pairs"
   ]
  },
  {
   "cell_type": "code",
   "execution_count": 7,
   "id": "abde1597",
   "metadata": {
    "vscode": {
     "languageId": "ruby"
    }
   },
   "outputs": [
    {
     "name": "stdout",
     "output_type": "stream",
     "text": [
      "name : Yash\n",
      "age : 21\n",
      "country : India\n"
     ]
    }
   ],
   "source": [
    "def print_details(**kwargs):\n",
    "    for key,value in kwargs.items():\n",
    "        print(f\"{key} : {value}\")\n",
    "\n",
    "print_details(name=\"Yash\",age=\"21\",country=\"India\")"
   ]
  },
  {
   "cell_type": "code",
   "execution_count": null,
   "id": "b634d674",
   "metadata": {
    "vscode": {
     "languageId": "ruby"
    }
   },
   "outputs": [],
   "source": [
    "## Example\n",
    "def count_word_frequency(file_path):\n",
    "    word_count = {}\n",
    "    with open(file_path, 'r') as file:\n",
    "        for line in file:\n",
    "            words = line.split()\n",
    "            for word in words:\n",
    "                word = word.lower().strip('.,!?;:\"\\'')\n",
    "                word_count[word] = word_count.get(word, 0) + 1 #Looks up key in the dictionary. If the key exists → returns its value. If the key does not exist → returns the default_value (instead of throwing an error).\n",
    "    return word_count\n"
   ]
  },
  {
   "cell_type": "markdown",
   "id": "bb4e85d8",
   "metadata": {},
   "source": [
    "#### Lambda Functions\n",
    "Lambda functions are small anonymous functions defined using lambda keyword, they can have any number of arguments but only one expression. They are commonly used for short operations or as arguments to higher order functions."
   ]
  },
  {
   "cell_type": "code",
   "execution_count": null,
   "id": "e5744a2a",
   "metadata": {},
   "outputs": [],
   "source": [
    "# Syntax\n",
    "lambda arguments: expression"
   ]
  },
  {
   "cell_type": "code",
   "execution_count": 1,
   "id": "7f02e205",
   "metadata": {},
   "outputs": [
    {
     "data": {
      "text/plain": [
       "5"
      ]
     },
     "execution_count": 1,
     "metadata": {},
     "output_type": "execute_result"
    }
   ],
   "source": [
    "def addition(a,b) :\n",
    "    return a + b\n",
    "addition(2,3)"
   ]
  },
  {
   "cell_type": "code",
   "execution_count": 2,
   "id": "6d1b8c0d",
   "metadata": {},
   "outputs": [
    {
     "data": {
      "text/plain": [
       "function"
      ]
     },
     "execution_count": 2,
     "metadata": {},
     "output_type": "execute_result"
    }
   ],
   "source": [
    "#Converting the function to lambda\n",
    "addition = lambda a,b: a+b\n",
    "type(addition)"
   ]
  },
  {
   "cell_type": "code",
   "execution_count": 3,
   "id": "7afc49b3",
   "metadata": {},
   "outputs": [
    {
     "name": "stdout",
     "output_type": "stream",
     "text": [
      "11\n"
     ]
    }
   ],
   "source": [
    "print(addition(5,6))"
   ]
  },
  {
   "cell_type": "code",
   "execution_count": 4,
   "id": "18285a5d",
   "metadata": {},
   "outputs": [
    {
     "name": "stdout",
     "output_type": "stream",
     "text": [
      "True\n",
      "True\n"
     ]
    }
   ],
   "source": [
    "def even(num) :\n",
    "    if(num%2 == 0):\n",
    "        return True\n",
    "    \n",
    "print(even(24))\n",
    "even1 = lambda num : num%2==0\n",
    "print(even1(12))"
   ]
  },
  {
   "cell_type": "code",
   "execution_count": 5,
   "id": "4cbce6b5",
   "metadata": {},
   "outputs": [
    {
     "data": {
      "text/plain": [
       "[5, 7, 9]"
      ]
     },
     "execution_count": 5,
     "metadata": {},
     "output_type": "execute_result"
    }
   ],
   "source": [
    "# map() - applies a function to all items in a list\n",
    "numbers = [1,2,3,4,5]\n",
    "list(map(lambda x : x**2, numbers))\n",
    "\n",
    "#map(function, iterable) - returns a map object, converted to list by list(), used to apply function to every iterable\n",
    "# Maps multiple iterable\n",
    "numbers1 =[1,2,3]\n",
    "numbers2 =[4,5,6]\n",
    "list(map(lambda x,y:x+y, numbers1,numbers2))\n",
    "\n"
   ]
  },
  {
   "cell_type": "markdown",
   "id": "02343a8b",
   "metadata": {},
   "source": [
    "#### Filter Functions\n",
    "the filter() function constructs an iterator from elements of an iterable for which a function returns true. It is used to filter out items for a list based on a condition"
   ]
  },
  {
   "cell_type": "code",
   "execution_count": null,
   "id": "4ca8e0d0",
   "metadata": {},
   "outputs": [
    {
     "name": "stdout",
     "output_type": "stream",
     "text": [
      "True\n",
      "[2, 4, 6, 8, 10, 12]\n",
      "[6, 7, 8, 9, 10, 11, 12]\n",
      "[6, 8, 10, 12]\n"
     ]
    }
   ],
   "source": [
    "def even(num):\n",
    "    if num%2 == 0 :\n",
    "        return True\n",
    "print(even(24))\n",
    "lst = [1,2,3,4,5,6,7,8,9,10,11,12]\n",
    "print(list(filter(even,lst)))\n",
    "print(list(filter(lambda x : x > 5, lst)))\n",
    "#FIlter with lambda and multiple conditions\n",
    "print(list(filter(lambda x:x>5 and x%2==0, lst)))\n",
    "\n"
   ]
  },
  {
   "cell_type": "code",
   "execution_count": null,
   "id": "168e4e85",
   "metadata": {},
   "outputs": [],
   "source": []
  }
 ],
 "metadata": {
  "kernelspec": {
   "display_name": "Python 3",
   "language": "python",
   "name": "python3"
  },
  "language_info": {
   "codemirror_mode": {
    "name": "ipython",
    "version": 3
   },
   "file_extension": ".py",
   "mimetype": "text/x-python",
   "name": "python",
   "nbconvert_exporter": "python",
   "pygments_lexer": "ipython3",
   "version": "3.13.5"
  }
 },
 "nbformat": 4,
 "nbformat_minor": 5
}
