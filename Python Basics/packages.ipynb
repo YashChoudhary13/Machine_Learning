{
 "cells": [
  {
   "cell_type": "markdown",
   "id": "16032dda",
   "metadata": {},
   "source": [
    "# Importing module\n",
    "In Python, modules and packages help organize and reuse code.\n"
   ]
  },
  {
   "cell_type": "code",
   "execution_count": 1,
   "id": "a9205d07",
   "metadata": {},
   "outputs": [
    {
     "data": {
      "text/plain": [
       "4.0"
      ]
     },
     "execution_count": 1,
     "metadata": {},
     "output_type": "execute_result"
    }
   ],
   "source": [
    "import math\n",
    "math.sqrt(16)"
   ]
  },
  {
   "cell_type": "code",
   "execution_count": 3,
   "id": "92fbe1de",
   "metadata": {},
   "outputs": [
    {
     "name": "stdout",
     "output_type": "stream",
     "text": [
      "4.0\n",
      "3.14\n"
     ]
    }
   ],
   "source": [
    "from math import sqrt,pi\n",
    "print(sqrt(16))\n",
    "print(round(pi, 2))"
   ]
  },
  {
   "cell_type": "code",
   "execution_count": null,
   "id": "3dfb231a",
   "metadata": {},
   "outputs": [],
   "source": [
    "import numpy as np #np is alias\n",
    "from math import * #imports everything from math module\n"
   ]
  },
  {
   "cell_type": "code",
   "execution_count": null,
   "id": "14f4c265",
   "metadata": {},
   "outputs": [
    {
     "data": {
      "text/plain": [
       "5"
      ]
     },
     "execution_count": 5,
     "metadata": {},
     "output_type": "execute_result"
    }
   ],
   "source": [
    "#Importing custom package\n",
    "from package.maths import addition #or from package import maths\n",
    "# if package folder is inside package -> from package.subpackage.math import additon here the folder is called subpackage\n",
    "addition(2,3)"
   ]
  },
  {
   "cell_type": "markdown",
   "id": "a84f724e",
   "metadata": {},
   "source": [
    "## Standard Library Overview\n",
    "Collection of module bundled with Python"
   ]
  },
  {
   "cell_type": "code",
   "execution_count": 7,
   "id": "4d16b40d",
   "metadata": {},
   "outputs": [
    {
     "data": {
      "text/plain": [
       "array('i', [1, 2, 3, 4])"
      ]
     },
     "execution_count": 7,
     "metadata": {},
     "output_type": "execute_result"
    }
   ],
   "source": [
    "import array\n",
    "arr = array.array('i', [1,2,3,4]) \n",
    "'''list → general-purpose, flexible, almost always what you use in everyday Python.\n",
    "array.array → when you specifically want compact, typed storage of numeric data (but in practice, people prefer NumPy arrays for numerical computing).'''\n",
    "arr"
   ]
  },
  {
   "cell_type": "code",
   "execution_count": 8,
   "id": "394a8171",
   "metadata": {},
   "outputs": [
    {
     "name": "stdout",
     "output_type": "stream",
     "text": [
      "6\n",
      "apple\n"
     ]
    }
   ],
   "source": [
    "import math\n",
    "import random\n",
    "print(random.randint(1,10)) # random integer between 1,10\n",
    "print(random.choice(['apple', 'banana', 'cherry']))"
   ]
  },
  {
   "cell_type": "code",
   "execution_count": null,
   "id": "6d9ffd06",
   "metadata": {},
   "outputs": [
    {
     "name": "stdout",
     "output_type": "stream",
     "text": [
      "/home/shanks/Coding/Machine_Learning/Python Basics\n"
     ]
    }
   ],
   "source": [
    "## File and Directory access\n",
    "import os\n",
    "print(os.getcwd())\n",
    "os.mkdir('test_dir')\n",
    "# High level operations\n",
    "import shutil\n",
    "shutil.copyfile('source.txt', 'destination.txt')"
   ]
  },
  {
   "cell_type": "code",
   "execution_count": null,
   "id": "cb16eaa7",
   "metadata": {},
   "outputs": [
    {
     "name": "stdout",
     "output_type": "stream",
     "text": [
      "{\"name\": \"Yash\", \"age\": 21}\n",
      "<class 'str'>\n",
      "{'name': 'Yash', 'age': 21}\n",
      "<class 'dict'>\n"
     ]
    }
   ],
   "source": [
    "# Data Serialization\n",
    "import json\n",
    "data = {'name' : 'Yash', 'age' : 21}\n",
    "json_str=json.dumps(data)\n",
    "print(json_str)\n",
    "print(type(json_str))\n",
    "parsed_data = json.loads(json_str)\n",
    "print(parsed_data)\n",
    "print(type(parsed_data))\n",
    "'''json.dumps(data) → Converts Python dict → JSON string.\n",
    "json.loads(json_str) → Converts JSON string → Python dict.'''"
   ]
  },
  {
   "cell_type": "code",
   "execution_count": null,
   "id": "cd391590",
   "metadata": {},
   "outputs": [
    {
     "name": "stdout",
     "output_type": "stream",
     "text": [
      "['name', 'age']\n",
      "['Yash', '21']\n"
     ]
    },
    {
     "data": {
      "text/plain": [
       "'\\nwith open(...) as file: is a Python construct called a context manager.\\nopen(...) → Opens a file and returns a file object.\\nwith ... as ...: → Creates a context manager that automatically handles setup and cleanup.\\nfile → The variable name you can use to interact with the opened file.\\n\\n'"
      ]
     },
     "execution_count": 15,
     "metadata": {},
     "output_type": "execute_result"
    }
   ],
   "source": [
    "# CSV\n",
    "import csv\n",
    "with open('example.csv', mode='w', newline='') as file:\n",
    "    writer = csv.writer(file)\n",
    "    writer.writerow(['name', 'age'])\n",
    "    writer.writerow(['Yash', 21])\n",
    "\n",
    "with open('example.csv', mode='r') as file:\n",
    "    reader = csv.reader(file)\n",
    "    for row in reader :\n",
    "        print(row)\n",
    "\n",
    "'''\n",
    "with open(...) as file: is a Python construct called a context manager.\n",
    "open(...) → Opens a file and returns a file object.\n",
    "with ... as ...: → Creates a context manager that automatically handles setup and cleanup.\n",
    "file → The variable name you can use to interact with the opened file.\n",
    "'''"
   ]
  },
  {
   "cell_type": "code",
   "execution_count": null,
   "id": "3e5d9f02",
   "metadata": {},
   "outputs": [
    {
     "name": "stdout",
     "output_type": "stream",
     "text": [
      "2025-09-01 15:36:30.852536\n",
      "2025-08-31 15:36:30.852536\n"
     ]
    }
   ],
   "source": [
    "# DATE TIME\n",
    "from datetime import datetime, timedelta\n",
    "now = datetime.now()\n",
    "print(now)\n",
    "yesterday = now - timedelta(days=1)\n",
    "print(yesterday)\n",
    "\n",
    "import time\n",
    "print(time.time())\n",
    "time.sleep(2)\n",
    "print(time.time())\n",
    "'''🔹 time module\n",
    "Low-level, system/epoch time.\n",
    "Works with seconds since Jan 1, 1970 (Unix epoch).'''"
   ]
  },
  {
   "cell_type": "code",
   "execution_count": null,
   "id": "1a8203df",
   "metadata": {},
   "outputs": [
    {
     "name": "stdout",
     "output_type": "stream",
     "text": [
      "123\n"
     ]
    }
   ],
   "source": [
    "# Regular EXpression\n",
    "import re\n",
    "pattern = r'\\d+'\n",
    "text = 'There are 123 apples'\n",
    "match = re.search(pattern, text)\n",
    "print(match.group())\n",
    "# Chat gpt if you're confused about regex"
   ]
  },
  {
   "cell_type": "code",
   "execution_count": null,
   "id": "361562e1",
   "metadata": {},
   "outputs": [],
   "source": []
  }
 ],
 "metadata": {
  "kernelspec": {
   "display_name": "Python 3",
   "language": "python",
   "name": "python3"
  },
  "language_info": {
   "codemirror_mode": {
    "name": "ipython",
    "version": 3
   },
   "file_extension": ".py",
   "mimetype": "text/x-python",
   "name": "python",
   "nbconvert_exporter": "python",
   "pygments_lexer": "ipython3",
   "version": "3.13.5"
  }
 },
 "nbformat": 4,
 "nbformat_minor": 5
}
