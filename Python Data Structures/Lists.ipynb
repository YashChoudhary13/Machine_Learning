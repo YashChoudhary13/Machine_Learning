{
 "cells": [
  {
   "cell_type": "markdown",
   "id": "e650d913",
   "metadata": {},
   "source": [
    "## Introduction to Lists"
   ]
  },
  {
   "cell_type": "markdown",
   "id": "076c7b05",
   "metadata": {},
   "source": [
    "- Lists are ordered, mutable collection of items\n",
    "- They can contain items of different data types"
   ]
  },
  {
   "cell_type": "code",
   "execution_count": null,
   "id": "fcc736d0",
   "metadata": {},
   "outputs": [],
   "source": [
    "names = ['Yash', \"Jack\", \"Jacob\"]\n",
    "print(names)"
   ]
  },
  {
   "cell_type": "code",
   "execution_count": null,
   "id": "cedaaa61",
   "metadata": {},
   "outputs": [],
   "source": [
    "# Accessing list elements\n",
    "print(names[2])\n",
    "print(names[1])\n",
    "print(names[0])\n",
    "print(names[-1]) #-1 is last index, negative index starts from end to beginning\n",
    "print(names[1:]) #printing from index 1 to the last\n",
    "print(names[:-1]) #printing from index 0 to index -1 i.e the last where it is not included\n",
    "print(names[1:3]) #printing from index 1 to 2\n",
    "print(names[-1:-3]) #by default the step = +1. that means it moves to the right side and if we write the stop index smaller than the start index it will return an empty array\n",
    "print(names[-1:-3:-1]) #This works because we set the value of step as negative one which changes the direction of traversal to the left side\n",
    "print(names[::-1]) #from all the elements start to end, print them in this step 10,9,8,7..."
   ]
  },
  {
   "cell_type": "code",
   "execution_count": null,
   "id": "2753d9d0",
   "metadata": {},
   "outputs": [],
   "source": [
    "#Modifying the elements\n",
    "names[1] = \"Shrayan\"\n",
    "print(names)\n",
    "names[1:]=\"Vishal\" #Changes all index from 1 to end to character of string\n",
    "print(names)"
   ]
  },
  {
   "cell_type": "code",
   "execution_count": 14,
   "id": "77577896",
   "metadata": {},
   "outputs": [],
   "source": [
    "#List Methods\n",
    "names.append('Vanalika')\n",
    "names.insert(2, \"Miuky\") #inserts at index 2\n",
    "names.pop() #removes the last element and returns it\n",
    "names.index(\"Miuky\") #returns the index of the string\n",
    "names.count(\"Yash\") # returns the count of the string\n",
    "names.reverse() #reverses the list\n",
    "names.clear() #removes all items from the list\n"
   ]
  },
  {
   "cell_type": "code",
   "execution_count": 18,
   "id": "ce5e1be5",
   "metadata": {},
   "outputs": [
    {
     "name": "stdout",
     "output_type": "stream",
     "text": [
      "Yash\n",
      "Jack\n",
      "Jacob\n"
     ]
    }
   ],
   "source": [
    "# Iterating over the list\n",
    "for name in names :\n",
    "    print(name)"
   ]
  },
  {
   "cell_type": "code",
   "execution_count": null,
   "id": "14a6d920",
   "metadata": {},
   "outputs": [
    {
     "name": "stdout",
     "output_type": "stream",
     "text": [
      "0 + Yash\n",
      "1 + Jack\n",
      "2 + Jacob\n"
     ]
    }
   ],
   "source": [
    "for index, name in enumerate(names) : #enumerate gives us index as well\n",
    "    print(f\"{index} + {name}\")"
   ]
  },
  {
   "cell_type": "markdown",
   "id": "bdee9b20",
   "metadata": {},
   "source": [
    "List comprehension  \n",
    "Basic Syntax ['expression' 'for item in iterable']  \n",
    "with conditional logic ['expression' 'for item in iterable' 'if condition']\n"
   ]
  },
  {
   "cell_type": "code",
   "execution_count": 22,
   "id": "2d1d291f",
   "metadata": {},
   "outputs": [
    {
     "name": "stdout",
     "output_type": "stream",
     "text": [
      "[0, 1, 4, 9, 16, 25, 36, 49, 64, 81]\n"
     ]
    }
   ],
   "source": [
    "sqaure = [num**2 for num in range(10)]\n",
    "print(sqaure)"
   ]
  },
  {
   "cell_type": "code",
   "execution_count": 23,
   "id": "deaa0a5d",
   "metadata": {},
   "outputs": [
    {
     "data": {
      "text/plain": [
       "[0, 2, 4, 6, 8]"
      ]
     },
     "execution_count": 23,
     "metadata": {},
     "output_type": "execute_result"
    }
   ],
   "source": [
    "[num for num in range(10) if num%2 == 0]"
   ]
  },
  {
   "cell_type": "code",
   "execution_count": null,
   "id": "5d8fa536",
   "metadata": {},
   "outputs": [],
   "source": [
    "#Nested list comprehension\n",
    "list1 = [1, 2, 3, 4, 5]\n",
    "list2 = ['a', 'b', 'c', 'd', 'e']\n",
    "[[i, j] for i in list1 for j in list2]"
   ]
  },
  {
   "cell_type": "code",
   "execution_count": 25,
   "id": "5a8c27c5",
   "metadata": {},
   "outputs": [
    {
     "data": {
      "text/plain": [
       "[7, 12, 12]"
      ]
     },
     "execution_count": 25,
     "metadata": {},
     "output_type": "execute_result"
    }
   ],
   "source": [
    "#List Comprehension with Function calls\n",
    "words = ['dvadvad', 'sdvfasdvasvd', 'fewdfaefadva']\n",
    "[len(word) for word in words]"
   ]
  }
 ],
 "metadata": {
  "kernelspec": {
   "display_name": "Python 3",
   "language": "python",
   "name": "python3"
  },
  "language_info": {
   "codemirror_mode": {
    "name": "ipython",
    "version": 3
   },
   "file_extension": ".py",
   "mimetype": "text/x-python",
   "name": "python",
   "nbconvert_exporter": "python",
   "pygments_lexer": "ipython3",
   "version": "3.13.5"
  }
 },
 "nbformat": 4,
 "nbformat_minor": 5
}
