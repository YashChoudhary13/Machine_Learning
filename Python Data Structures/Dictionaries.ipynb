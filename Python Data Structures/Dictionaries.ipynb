{
 "cells": [
  {
   "cell_type": "markdown",
   "id": "c5107418",
   "metadata": {},
   "source": [
    "### Dictionaries"
   ]
  },
  {
   "cell_type": "markdown",
   "id": "bcf976cb",
   "metadata": {},
   "source": [
    "Dictionaries are unordered collection of items stored in key-value pairs, Key must be unique and immutable while values can be of any type\n"
   ]
  },
  {
   "cell_type": "code",
   "execution_count": 1,
   "id": "ef8e2209",
   "metadata": {},
   "outputs": [],
   "source": [
    "dictionary = {\n",
    "    \"name\" : \"Yash\",\n",
    "    \"age\" : 21,\n",
    "    \"grade\" : 'A'\n",
    "}"
   ]
  },
  {
   "cell_type": "code",
   "execution_count": null,
   "id": "180d97db",
   "metadata": {},
   "outputs": [
    {
     "name": "stdout",
     "output_type": "stream",
     "text": [
      "Yash\n",
      "21\n",
      "A\n"
     ]
    }
   ],
   "source": [
    "print(dictionary[\"name\"])\n",
    "print(dictionary[\"age\"])\n",
    "print(dictionary[\"grade\"])\n",
    "print(dictionary.get(\"grade\"))\n",
    "print(dictionary.get(\"last_name\")) #Returns none since last_name key is not defined\n",
    "print(dictionary.get(\"last_name\", \"Not Available\")) #Returns not available since we set its default return to it\n"
   ]
  },
  {
   "cell_type": "code",
   "execution_count": 4,
   "id": "92c4fd0c",
   "metadata": {},
   "outputs": [
    {
     "name": "stdout",
     "output_type": "stream",
     "text": [
      "{'name': 'Miuky', 'age': 21, 'grade': 'A'}\n"
     ]
    }
   ],
   "source": [
    "# Dictionary are mutable\n",
    "dictionary[\"name\"] = \"Miuky\"\n",
    "print(dictionary)"
   ]
  },
  {
   "cell_type": "code",
   "execution_count": 5,
   "id": "f84e0538",
   "metadata": {},
   "outputs": [
    {
     "name": "stdout",
     "output_type": "stream",
     "text": [
      "{'name': 'Miuky', 'age': 21}\n"
     ]
    }
   ],
   "source": [
    "#Deleting a key\n",
    "del dictionary['grade'] # deletes the key-value pair of grade key\n",
    "print(dictionary)"
   ]
  },
  {
   "cell_type": "code",
   "execution_count": 7,
   "id": "96adb1a9",
   "metadata": {},
   "outputs": [
    {
     "name": "stdout",
     "output_type": "stream",
     "text": [
      "dict_keys(['name', 'age'])\n",
      "dict_values(['Miuky', 21])\n",
      "dict_items([('name', 'Miuky'), ('age', 21)])\n"
     ]
    }
   ],
   "source": [
    "#Dictionary Methods\n",
    "keys = dictionary.keys()\n",
    "print(keys) # All the keys gets printed\n",
    "values = dictionary.values()\n",
    "print(values) # All the values gets printed\n",
    "item = dictionary.items()\n",
    "print(item) # All key value pairs get printed"
   ]
  },
  {
   "cell_type": "code",
   "execution_count": 8,
   "id": "83d6bc2d",
   "metadata": {},
   "outputs": [
    {
     "name": "stdout",
     "output_type": "stream",
     "text": [
      "name\n",
      "age\n",
      "Miuky\n",
      "21\n"
     ]
    }
   ],
   "source": [
    "dictionary_copy = dictionary.copy() # Helps in creating a copy, without .copy() the dictionary_copy would point to same address as dictionary and make a deep copy\n",
    "# Iterating Dictionaries\n",
    "for keys in dictionary.keys() :\n",
    "    print(keys)\n",
    "for values in dictionary.values() :\n",
    "    print(values)"
   ]
  },
  {
   "cell_type": "markdown",
   "id": "b7bdaccf",
   "metadata": {},
   "source": [
    "Nested Dictionaries : You can create a dictionary inside a dictionary  \n",
    "Can be iterated using nested for loops  \n",
    "Dictionary Comprehension : [key : value for value in values]"
   ]
  },
  {
   "cell_type": "code",
   "execution_count": 9,
   "id": "56becf08",
   "metadata": {},
   "outputs": [
    {
     "name": "stdout",
     "output_type": "stream",
     "text": [
      "{'a': 1, 'b': 3, 'c': 4}\n"
     ]
    }
   ],
   "source": [
    "#MERGE DICTIONARIES\n",
    "dict1 = {\"a\": 1, \"b\": 2}\n",
    "dict2 = {\"b\": 3, \"c\": 4}\n",
    "\n",
    "merge_dict = {**dict1, **dict2}\n",
    "print(merge_dict)  \n",
    "# {'a': 1, 'b': 3, 'c': 4}"
   ]
  },
  {
   "cell_type": "code",
   "execution_count": null,
   "id": "9bac2269",
   "metadata": {},
   "outputs": [],
   "source": []
  }
 ],
 "metadata": {
  "kernelspec": {
   "display_name": "Python 3",
   "language": "python",
   "name": "python3"
  },
  "language_info": {
   "codemirror_mode": {
    "name": "ipython",
    "version": 3
   },
   "file_extension": ".py",
   "mimetype": "text/x-python",
   "name": "python",
   "nbconvert_exporter": "python",
   "pygments_lexer": "ipython3",
   "version": "3.13.5"
  }
 },
 "nbformat": 4,
 "nbformat_minor": 5
}
