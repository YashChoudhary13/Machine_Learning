{
 "cells": [
  {
   "cell_type": "markdown",
   "id": "5c02dba2",
   "metadata": {},
   "source": [
    "### Tuples\n",
    "Tuples are ordered collection of items that are immutable. They are similar to lists but their immutability makes them different"
   ]
  },
  {
   "cell_type": "code",
   "execution_count": 1,
   "id": "535c174f",
   "metadata": {},
   "outputs": [],
   "source": [
    "names = ('Yash', 'Shrayan', 'Vishal')"
   ]
  },
  {
   "cell_type": "code",
   "execution_count": 3,
   "id": "4fe447b2",
   "metadata": {},
   "outputs": [
    {
     "data": {
      "text/plain": [
       "('Yash',\n",
       " 'Shrayan',\n",
       " 'Vishal',\n",
       " 'Yash',\n",
       " 'Shrayan',\n",
       " 'Vishal',\n",
       " 'Yash',\n",
       " 'Shrayan',\n",
       " 'Vishal')"
      ]
     },
     "execution_count": 3,
     "metadata": {},
     "output_type": "execute_result"
    }
   ],
   "source": [
    "#tuple operations\n",
    "new_names = ('Miuky', 'Vanalika', 'Keshav')\n",
    "concat_names = names + new_names\n",
    "names * 3"
   ]
  },
  {
   "cell_type": "code",
   "execution_count": 8,
   "id": "73b930d9",
   "metadata": {},
   "outputs": [
    {
     "name": "stdout",
     "output_type": "stream",
     "text": [
      "(1, 'Jelly', 3.14)\n",
      "1Jelly3.14\n",
      "(1, 2, 3, 4, 5, 6)\n",
      "first takes the first element 1 and last takes the last element 6 and the rest goes in the middle in form of list\n",
      "[2, 3, 4, 5]\n"
     ]
    }
   ],
   "source": [
    "# Packing and Unpacking a tuple\n",
    "unpacked_tuple = 1,'Jelly', 3.14 #tuple getting packed\n",
    "print(unpacked_tuple)\n",
    "a,b,c = unpacked_tuple # tuple getting unpacked\n",
    "print(f\"{a}{b}{c}\")\n",
    "numbers = 1,2,3,4,5,6\n",
    "print(numbers)\n",
    "first, *middle, last = numbers\n",
    "print(f\"first takes the first element {first} and last takes the last element {last} and the rest goes in the middle in form of list\")\n",
    "print(middle)"
   ]
  },
  {
   "cell_type": "markdown",
   "id": "2bd87d94",
   "metadata": {},
   "source": [
    "Rest of the things are all same as Lists, including the nested lists behaviour and the methods"
   ]
  }
 ],
 "metadata": {
  "kernelspec": {
   "display_name": "Python 3",
   "language": "python",
   "name": "python3"
  },
  "language_info": {
   "codemirror_mode": {
    "name": "ipython",
    "version": 3
   },
   "file_extension": ".py",
   "mimetype": "text/x-python",
   "name": "python",
   "nbconvert_exporter": "python",
   "pygments_lexer": "ipython3",
   "version": "3.13.5"
  }
 },
 "nbformat": 4,
 "nbformat_minor": 5
}
