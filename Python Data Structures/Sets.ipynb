{
 "cells": [
  {
   "cell_type": "markdown",
   "id": "9bb11e5c",
   "metadata": {},
   "source": [
    "### Sets\n",
    "- Sets are built-in data type in Python used to store collections of unique items  \n",
    "- They are unordered  \n",
    "- They do not allow duplicate elements  \n",
    "- Useful for performing set operations like union, intersection, difference, symmetric difference"
   ]
  },
  {
   "cell_type": "code",
   "execution_count": 1,
   "id": "f467a23e",
   "metadata": {},
   "outputs": [
    {
     "name": "stdout",
     "output_type": "stream",
     "text": [
      "<class 'set'>\n"
     ]
    }
   ],
   "source": [
    "my_set = {1,2,3,4,5}\n",
    "print(type(my_set))"
   ]
  },
  {
   "cell_type": "code",
   "execution_count": null,
   "id": "bb67bffc",
   "metadata": {},
   "outputs": [
    {
     "name": "stdout",
     "output_type": "stream",
     "text": [
      "{1, 2, 3, 4, 5, 6}\n",
      "{1, 2, 3, 4, 5}\n"
     ]
    }
   ],
   "source": [
    "## Basics Set Operations\n",
    "my_set.add(6)\n",
    "print(my_set)\n",
    "my_set.remove(6) #Returns error if the element is not present\n",
    "print(my_set)\n",
    "my_set.discard(6) #Does not return error if the element is not present\n",
    "my_set.pop()\n",
    "my_set.clear()\n",
    "print(3 in my_set) #REturns true if the element is present, else False\n"
   ]
  },
  {
   "cell_type": "code",
   "execution_count": 7,
   "id": "07439b38",
   "metadata": {},
   "outputs": [
    {
     "name": "stdout",
     "output_type": "stream",
     "text": [
      "{0, 1, 2, 3, 4, 5, 6, 7, 8, 9}\n",
      "{1}\n"
     ]
    }
   ],
   "source": [
    "my_set2 = {6,7,8,9,0,1}\n",
    "union_set = my_set.union(my_set2)\n",
    "print(union_set)\n",
    "intersection_set = my_set.intersection(my_set2)\n",
    "print(intersection_set)\n",
    "# intersection_update_set = my_set.intersection_update(my_set2)\n",
    "# intersection_update modifies the original in place\n",
    "difference_set = my_set.difference(my_set2)\n",
    "# Removes the common element from my_set\n",
    "symmetric_difference = my_set.symmetric_difference(my_set2)\n",
    "# adds element of both sets except the common ones"
   ]
  },
  {
   "cell_type": "code",
   "execution_count": null,
   "id": "707690e7",
   "metadata": {},
   "outputs": [],
   "source": [
    "# Sets Methods\n",
    "set1 = {1,2,3}\n",
    "set2 = {4,5,6}\n",
    "set1.issubset(set2) #returns false\n",
    "set1.issuperset(set2) #returns false because all elements of set 2 is not present in set1\n"
   ]
  }
 ],
 "metadata": {
  "kernelspec": {
   "display_name": "Python 3",
   "language": "python",
   "name": "python3"
  },
  "language_info": {
   "codemirror_mode": {
    "name": "ipython",
    "version": 3
   },
   "file_extension": ".py",
   "mimetype": "text/x-python",
   "name": "python",
   "nbconvert_exporter": "python",
   "pygments_lexer": "ipython3",
   "version": "3.13.5"
  }
 },
 "nbformat": 4,
 "nbformat_minor": 5
}
